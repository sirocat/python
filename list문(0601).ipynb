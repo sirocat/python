{
  "nbformat": 4,
  "nbformat_minor": 0,
  "metadata": {
    "colab": {
      "provenance": []
    },
    "kernelspec": {
      "name": "python3",
      "display_name": "Python 3"
    },
    "language_info": {
      "name": "python"
    }
  },
  "cells": [
    {
      "cell_type": "markdown",
      "source": [
        "## Page27"
      ],
      "metadata": {
        "id": "zoJ5VdpGOvsG"
      }
    },
    {
      "cell_type": "code",
      "execution_count": 25,
      "metadata": {
        "id": "JH3JYQt2N9gm",
        "colab": {
          "base_uri": "https://localhost:8080/"
        },
        "outputId": "eaf065d8-2a06-4fb7-d381-6af2f601776a"
      },
      "outputs": [
        {
          "output_type": "stream",
          "name": "stdout",
          "text": [
            "짝수 번째 요소 : 9 18 -3 12 -12 \n",
            "24\n"
          ]
        }
      ],
      "source": [
        "numbers = [7,9,15,18,30,-3,7,12,-16,-12]\n",
        "\n",
        "sum = 0\n",
        "i = 0\n",
        "print(\"짝수 번째 요소 : \",end = \"\")\n",
        "while(i < len(numbers)):\n",
        "    if (i+1) % 2 == 0:\n",
        "      sum += numbers[i]\n",
        "      print(numbers[i],end = ' ')\n",
        "    i += 1\n",
        "print()\n",
        "print(sum)\n"
      ]
    },
    {
      "cell_type": "markdown",
      "source": [
        "Page28"
      ],
      "metadata": {
        "id": "Drdk0WLCQQGU"
      }
    },
    {
      "cell_type": "code",
      "source": [
        "number = [10,20,30],[40,50,60]\n",
        "print(number[0])\n",
        "print(number[1])\n",
        "print(number[0][0],number[0][1],number[0][2])\n",
        "print(number[1][0],number[1][1],number[1][2])"
      ],
      "metadata": {
        "colab": {
          "base_uri": "https://localhost:8080/"
        },
        "id": "N_2SmrMjQSam",
        "outputId": "12f968d6-41fd-4ddf-ab1a-238895270290"
      },
      "execution_count": 3,
      "outputs": [
        {
          "output_type": "stream",
          "name": "stdout",
          "text": [
            "[10, 20, 30]\n",
            "[40, 50, 60]\n",
            "10 20 30\n",
            "40 50 60\n"
          ]
        }
      ]
    },
    {
      "cell_type": "code",
      "source": [
        "number = [10,20,30],[40,50,60,70,80]\n",
        "print(number[0][0],number[0][1],number[0][2])\n",
        "print(number[1][0],number[1][1],number[1][2],number[1][3],number[1][4])"
      ],
      "metadata": {
        "colab": {
          "base_uri": "https://localhost:8080/"
        },
        "id": "HgkuptHVQSiV",
        "outputId": "b4e65dda-6b53-42d6-ec84-e63140874806"
      },
      "execution_count": 4,
      "outputs": [
        {
          "output_type": "stream",
          "name": "stdout",
          "text": [
            "10 20 30\n",
            "40 50 60 70 80\n"
          ]
        }
      ]
    },
    {
      "cell_type": "code",
      "source": [
        "for sub in number:\n",
        "  for s in sub:\n",
        "    print(s,end=' ')\n",
        "  print()"
      ],
      "metadata": {
        "colab": {
          "base_uri": "https://localhost:8080/"
        },
        "id": "FcPWZxh0RPrO",
        "outputId": "39200c9b-5e03-4094-fc90-de52bcba2890"
      },
      "execution_count": 6,
      "outputs": [
        {
          "output_type": "stream",
          "name": "stdout",
          "text": [
            "10 20 30 \n",
            "40 50 60 70 80 \n"
          ]
        }
      ]
    },
    {
      "cell_type": "code",
      "source": [
        "data = [[10,20],[30,40],[50,60],[70,80]]\n",
        "for i in range(4):\n",
        "  for j in range(2):\n",
        "    print(\"data[%d][%d]= %d\"%(i,j,data[i][j]))"
      ],
      "metadata": {
        "colab": {
          "base_uri": "https://localhost:8080/"
        },
        "id": "k9adf3e4RPuN",
        "outputId": "1d286fb3-9bca-4eec-cb53-7ac684931740"
      },
      "execution_count": 8,
      "outputs": [
        {
          "output_type": "stream",
          "name": "stdout",
          "text": [
            "data[0][0]= 10\n",
            "data[0][1]= 20\n",
            "data[1][0]= 30\n",
            "data[1][1]= 40\n",
            "data[2][0]= 50\n",
            "data[2][1]= 60\n",
            "data[3][0]= 70\n",
            "data[3][1]= 80\n"
          ]
        }
      ]
    },
    {
      "cell_type": "code",
      "source": [
        "string = [[\"원두커피\",\"라떼\",\"콜라\"],[\"우동\",\"국수\",\"피자\",\"파스타\"]]\n",
        "for i in range(len(string)):\n",
        "  for j in range(len(string[i])):\n",
        "    print(string[i][j],end = ' ')\n",
        "  print()"
      ],
      "metadata": {
        "colab": {
          "base_uri": "https://localhost:8080/"
        },
        "id": "A2JmuoRgS8zP",
        "outputId": "a7fc4571-c8e2-4c09-9de7-2f1267c962c4"
      },
      "execution_count": 17,
      "outputs": [
        {
          "output_type": "stream",
          "name": "stdout",
          "text": [
            "원두커피 라떼 콜라 \n",
            "우동 국수 피자 파스타 \n"
          ]
        }
      ]
    },
    {
      "cell_type": "code",
      "source": [
        "data = [[10,20,30],[40,50],[60,70,80,90]]\n",
        "print(data)\n",
        "for i in range(len(data)):\n",
        "  print(data[i][0])"
      ],
      "metadata": {
        "colab": {
          "base_uri": "https://localhost:8080/"
        },
        "id": "d1TThY2BRPw1",
        "outputId": "0bdf56fc-ca12-4f8b-d35d-bc25e1cfa874"
      },
      "execution_count": 11,
      "outputs": [
        {
          "output_type": "stream",
          "name": "stdout",
          "text": [
            "[[10, 20, 30], [40, 50], [60, 70, 80, 90]]\n",
            "10\n",
            "40\n",
            "60\n"
          ]
        }
      ]
    },
    {
      "cell_type": "markdown",
      "source": [
        "## Page29"
      ],
      "metadata": {
        "id": "ETF2e8zpVEhe"
      }
    },
    {
      "cell_type": "code",
      "source": [
        "score = [[88,76,92,98],[65,70,58,82],[82,80,78,88]]\n",
        "total = 0\n",
        "totalsub = 0\n",
        "for i in range(len(score)):\n",
        "  for j in range(len(score[i])):\n",
        "    total += score[i][j]\n",
        "  print(\"총점: \",total,end = ' ')\n",
        "  print(\"평균: \",total/4)\n",
        "  totalsub += total\n",
        "  total = 0\n",
        "print(\"전체평균 : \",totalsub/12)"
      ],
      "metadata": {
        "colab": {
          "base_uri": "https://localhost:8080/"
        },
        "id": "3sY9QCDHRPzr",
        "outputId": "cbd5345d-0eb4-4d36-9ef6-5ef91311e240"
      },
      "execution_count": 22,
      "outputs": [
        {
          "output_type": "stream",
          "name": "stdout",
          "text": [
            "총점:  354 평균:  88.5\n",
            "총점:  275 평균:  68.75\n",
            "총점:  328 평균:  82.0\n",
            "전체평균 :  79.75\n"
          ]
        }
      ]
    },
    {
      "cell_type": "code",
      "source": [
        "seats = [[0,0,0,0,0,0,0,0,0,0],\\\n",
        "[0,0,0,0,0,0,0,0,0,0],\\\n",
        "[0,0,0,0,0,0,0,0,0,0],\\\n",
        "[1,1,1,0,0,0,0,0,1,0],\\\n",
        "[0,0,0,0,0,1,0,0,0,0],\\\n",
        "[0,1,0,0,0,1,0,1,0,0],\\\n",
        " [0,0,0,0,0,0,1,0,0,0],\\\n",
        "[1,0,1,0,0,0,0,0,0,1]]\n",
        "\n",
        "for i in range(len(seats)):\n",
        "  for j in range(len(seats[i])):\n",
        "    if seats[i][j] == 0:\n",
        "      print('%3s'%'□',end='')\n",
        "    else:\n",
        "      print('%3s'%'■',end='')\n",
        "  print()\n",
        "print('\\n※ 예약가능 :■,예약 불가: □ ')\n"
      ],
      "metadata": {
        "colab": {
          "base_uri": "https://localhost:8080/"
        },
        "id": "cB2aLwdlRP2S",
        "outputId": "65ee0a56-eddb-4bdc-eaac-e53c209ab760"
      },
      "execution_count": 26,
      "outputs": [
        {
          "output_type": "stream",
          "name": "stdout",
          "text": [
            "  □  □  □  □  □  □  □  □  □  □\n",
            "  □  □  □  □  □  □  □  □  □  □\n",
            "  □  □  □  □  □  □  □  □  □  □\n",
            "  ■  ■  ■  □  □  □  □  □  ■  □\n",
            "  □  □  □  □  □  ■  □  □  □  □\n",
            "  □  ■  □  □  □  ■  □  ■  □  □\n",
            "  □  □  □  □  □  □  ■  □  □  □\n",
            "  ■  □  ■  □  □  □  □  □  □  ■\n",
            "\n",
            "※ 예약가능 :■,예약 불가: □ \n"
          ]
        }
      ]
    },
    {
      "cell_type": "code",
      "source": [
        "scores = [[96,84,80],[96,86,76],[76,95,83],[89,96,69],[83,86,79],[85,90,83]]\n",
        "i = 0\n",
        "while (i) < len(scores):\n",
        "  total = 0\n",
        "  total = scores[i][0]+scores[i][1]+scores[i][2]\n",
        "  print(\"%d번째 학생의 합계 : %d, 평균 : %2.f\"%(i+1,total,total/3))\n",
        "  i += 1"
      ],
      "metadata": {
        "colab": {
          "base_uri": "https://localhost:8080/"
        },
        "id": "CnDh9UmseTSg",
        "outputId": "a732a643-95fa-4a52-9d7a-588eb73afe0a"
      },
      "execution_count": 36,
      "outputs": [
        {
          "output_type": "stream",
          "name": "stdout",
          "text": [
            "1번째 학생의 합계 : 260, 평균 : 87\n",
            "2번째 학생의 합계 : 258, 평균 : 86\n",
            "3번째 학생의 합계 : 254, 평균 : 85\n",
            "4번째 학생의 합계 : 254, 평균 : 85\n",
            "5번째 학생의 합계 : 248, 평균 : 83\n",
            "6번째 학생의 합계 : 258, 평균 : 86\n"
          ]
        }
      ]
    },
    {
      "cell_type": "markdown",
      "source": [
        "## Page30"
      ],
      "metadata": {
        "id": "63_bpcigizKj"
      }
    },
    {
      "cell_type": "code",
      "source": [
        "scores = [[96,84,80],[96,86,76],[76,95,83],[89,96,69],[83,86,79],[85,90,83]]\n",
        "i = 0\n",
        "for i in range(len(scores)):\n",
        "  total = 0\n",
        "  total = scores[i][0]+scores[i][1]+scores[i][2]\n",
        "  print(\"%d번째 학생의 합계 : %d, 평균 : %2.f\"%(i+1,total,total/3))"
      ],
      "metadata": {
        "colab": {
          "base_uri": "https://localhost:8080/"
        },
        "id": "mT5lCBVXi0vC",
        "outputId": "7c90281b-a318-49ed-e204-6793ea6d071e"
      },
      "execution_count": 34,
      "outputs": [
        {
          "output_type": "stream",
          "name": "stdout",
          "text": [
            "1번째 학생의 합계 : 260, 평균 : 87\n",
            "2번째 학생의 합계 : 258, 평균 : 86\n",
            "3번째 학생의 합계 : 254, 평균 : 85\n",
            "4번째 학생의 합계 : 254, 평균 : 85\n",
            "5번째 학생의 합계 : 248, 평균 : 83\n",
            "6번째 학생의 합계 : 258, 평균 : 86\n"
          ]
        }
      ]
    },
    {
      "cell_type": "code",
      "source": [
        "[2 * n for n in range(1,11)]"
      ],
      "metadata": {
        "colab": {
          "base_uri": "https://localhost:8080/"
        },
        "id": "rKo0oAnxjHiT",
        "outputId": "77f82c36-2943-483c-9a0a-48073fa2daaf"
      },
      "execution_count": 35,
      "outputs": [
        {
          "output_type": "execute_result",
          "data": {
            "text/plain": [
              "[2, 4, 6, 8, 10, 12, 14, 16, 18, 20]"
            ]
          },
          "metadata": {},
          "execution_count": 35
        }
      ]
    },
    {
      "cell_type": "code",
      "source": [
        "even1 =[i for i in range(100)if i %2 ==0]\n",
        "even2 = [i *2 for i in range(1,51)]\n",
        "print(even1)\n",
        "print(even2)"
      ],
      "metadata": {
        "colab": {
          "base_uri": "https://localhost:8080/"
        },
        "id": "M8PrnIbiqeFH",
        "outputId": "4d03816a-ac30-4fd7-9ca0-2eefa610e9f0"
      },
      "execution_count": 46,
      "outputs": [
        {
          "output_type": "stream",
          "name": "stdout",
          "text": [
            "[0, 2, 4, 6, 8, 10, 12, 14, 16, 18, 20, 22, 24, 26, 28, 30, 32, 34, 36, 38, 40, 42, 44, 46, 48, 50, 52, 54, 56, 58, 60, 62, 64, 66, 68, 70, 72, 74, 76, 78, 80, 82, 84, 86, 88, 90, 92, 94, 96, 98]\n",
            "[2, 4, 6, 8, 10, 12, 14, 16, 18, 20, 22, 24, 26, 28, 30, 32, 34, 36, 38, 40, 42, 44, 46, 48, 50, 52, 54, 56, 58, 60, 62, 64, 66, 68, 70, 72, 74, 76, 78, 80, 82, 84, 86, 88, 90, 92, 94, 96, 98, 100]\n"
          ]
        }
      ]
    },
    {
      "cell_type": "code",
      "source": [
        "li = []\n",
        "for n in range(1,10):\n",
        "  if n % 3 ==0:\n",
        "    li.append(n*n)\n",
        "print(li)"
      ],
      "metadata": {
        "colab": {
          "base_uri": "https://localhost:8080/"
        },
        "id": "b6CT-WF5tFEL",
        "outputId": "5d63af47-8b44-4271-b038-ab923b249f6c"
      },
      "execution_count": 42,
      "outputs": [
        {
          "output_type": "stream",
          "name": "stdout",
          "text": [
            "[9, 36, 81]\n"
          ]
        }
      ]
    },
    {
      "cell_type": "code",
      "source": [
        "numbers = [1,2,3,4,5]\n",
        "result = [2*n for n in range(6) if n%2==1]\n",
        "print(result)"
      ],
      "metadata": {
        "colab": {
          "base_uri": "https://localhost:8080/"
        },
        "id": "O_iIVNnhtFHM",
        "outputId": "b4ea30d1-706b-4da6-9df9-7f0be69094fe"
      },
      "execution_count": 48,
      "outputs": [
        {
          "output_type": "stream",
          "name": "stdout",
          "text": [
            "[2, 6, 10]\n"
          ]
        }
      ]
    },
    {
      "cell_type": "code",
      "source": [
        "v = [17,92,18,33,58,7,33,42]\n",
        "max = v[0]\n",
        "for n in range(len(v)):\n",
        "  if v[n] > max:\n",
        "    max = v[n]\n",
        "print(\"최대값 = \",max)"
      ],
      "metadata": {
        "colab": {
          "base_uri": "https://localhost:8080/"
        },
        "id": "_0Z4sOZgvDEM",
        "outputId": "a4f6927a-ce70-4969-b1c2-c40045181a83"
      },
      "execution_count": 51,
      "outputs": [
        {
          "output_type": "stream",
          "name": "stdout",
          "text": [
            "최대값 =  92\n"
          ]
        }
      ]
    },
    {
      "cell_type": "code",
      "source": [
        "for i in [1,2,3]:\n",
        "  for j in ['a','b','c']:\n",
        "    print(i*j,end = ' ')"
      ],
      "metadata": {
        "colab": {
          "base_uri": "https://localhost:8080/"
        },
        "id": "HCN2a24SvZfA",
        "outputId": "92163e39-5c4c-4210-f077-68a982e61a82"
      },
      "execution_count": 52,
      "outputs": [
        {
          "output_type": "stream",
          "name": "stdout",
          "text": [
            "a b c aa bb cc aaa bbb ccc "
          ]
        }
      ]
    },
    {
      "cell_type": "code",
      "source": [
        "list_a = [\"I\",\"study\",\"python\",\"language\",\"!\"]\n",
        "for i in range(len(list_a)):\n",
        "  if len(list_a[i]) > 3:\n",
        "    print(list_a[i])"
      ],
      "metadata": {
        "colab": {
          "base_uri": "https://localhost:8080/"
        },
        "id": "8IbyIVOzvZhm",
        "outputId": "cfac16c3-05c6-4a00-8503-c11d2132d080"
      },
      "execution_count": 53,
      "outputs": [
        {
          "output_type": "stream",
          "name": "stdout",
          "text": [
            "study\n",
            "python\n",
            "language\n"
          ]
        }
      ]
    },
    {
      "cell_type": "code",
      "source": [],
      "metadata": {
        "id": "PG7QaG2_vZkR"
      },
      "execution_count": null,
      "outputs": []
    }
  ]
}