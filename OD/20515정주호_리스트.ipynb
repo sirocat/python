{
  "nbformat": 4,
  "nbformat_minor": 0,
  "metadata": {
    "colab": {
      "provenance": [],
      "authorship_tag": "ABX9TyMmmjFYPdvdzKdF4YfJ5Shu",
      "include_colab_link": true
    },
    "kernelspec": {
      "name": "python3",
      "display_name": "Python 3"
    },
    "language_info": {
      "name": "python"
    }
  },
  "cells": [
    {
      "cell_type": "markdown",
      "metadata": {
        "id": "view-in-github",
        "colab_type": "text"
      },
      "source": [
        "<a href=\"https://colab.research.google.com/github/sirocat/python/blob/main/20515%EC%A0%95%EC%A3%BC%ED%98%B8_%EB%A6%AC%EC%8A%A4%ED%8A%B8.ipynb\" target=\"_parent\"><img src=\"https://colab.research.google.com/assets/colab-badge.svg\" alt=\"Open In Colab\"/></a>"
      ]
    },
    {
      "cell_type": "markdown",
      "source": [
        "## Page22"
      ],
      "metadata": {
        "id": "-gbUyBkCK5GQ"
      }
    },
    {
      "cell_type": "code",
      "execution_count": 5,
      "metadata": {
        "colab": {
          "base_uri": "https://localhost:8080/"
        },
        "id": "5K1sDjN_JUan",
        "outputId": "0383cf35-4af3-49f1-f729-ac1c8ae57cba"
      },
      "outputs": [
        {
          "output_type": "stream",
          "name": "stdout",
          "text": [
            "[500, 5000, 8900, 1800, 2500]\n",
            "<class 'list'>\n",
            "['사과', '파인애플', '수박']\n",
            "<class 'list'>\n"
          ]
        }
      ],
      "source": [
        "#1\n",
        "price = [500,5000,8900,1800,2500]\n",
        "print(price)\n",
        "print(type(price))\n",
        "fruit = ['사과','파인애플','수박']\n",
        "print(fruit)\n",
        "print(type(fruit))"
      ]
    },
    {
      "cell_type": "code",
      "source": [
        "#2\n",
        "fruit = ['사과',1500,'수박',8900]\n",
        "print(fruit)\n",
        "print(\"사괴의 자료형은 \",type(fruit[0]),\"이다.\")\n",
        "print(\"1500의 자료형은 \",type(fruit[1]),\"이다.\")\n",
        "print(\"수박의 자료형은 \",type(fruit[2]),\"이다.\")\n",
        "print(\"8900의 자료형은 \",type(fruit[3]),\"이다.\")"
      ],
      "metadata": {
        "colab": {
          "base_uri": "https://localhost:8080/"
        },
        "id": "cmW4GyjFMC2F",
        "outputId": "9106e9ba-1203-41df-c836-1ba37673cfa5"
      },
      "execution_count": 8,
      "outputs": [
        {
          "output_type": "stream",
          "name": "stdout",
          "text": [
            "['사과', 1500, '수박', 8900]\n",
            "사괴의 자료형은  <class 'str'> 이다.\n",
            "1500의 자료형은  <class 'int'> 이다.\n",
            "수박의 자료형은  <class 'str'> 이다.\n",
            "8900의 자료형은  <class 'int'> 이다.\n"
          ]
        }
      ]
    },
    {
      "cell_type": "code",
      "source": [
        "#3\n",
        "a = []\n",
        "b = list()\n",
        "print(a)\n",
        "print(b)\n",
        "print(type(a))\n",
        "print(type(b))"
      ],
      "metadata": {
        "colab": {
          "base_uri": "https://localhost:8080/"
        },
        "id": "1JLGLMtEK4dY",
        "outputId": "503c9334-d12e-4aa1-9071-8a666d0ca261"
      },
      "execution_count": 12,
      "outputs": [
        {
          "output_type": "stream",
          "name": "stdout",
          "text": [
            "[]\n",
            "[]\n",
            "<class 'list'>\n",
            "<class 'list'>\n"
          ]
        }
      ]
    },
    {
      "cell_type": "code",
      "source": [
        "#4\n",
        "num = list(range(1,21,2))\n",
        "print(num)\n",
        "print(type(num))\n",
        "a = list(\"Korea\")\n",
        "print(a)\n",
        "print(type(a))"
      ],
      "metadata": {
        "colab": {
          "base_uri": "https://localhost:8080/"
        },
        "id": "hXOy07GkM9X9",
        "outputId": "f273a028-12d4-4acc-cb49-096c40dff02d"
      },
      "execution_count": 13,
      "outputs": [
        {
          "output_type": "stream",
          "name": "stdout",
          "text": [
            "[1, 3, 5, 7, 9, 11, 13, 15, 17, 19]\n",
            "<class 'list'>\n",
            "['K', 'o', 'r', 'e', 'a']\n",
            "<class 'list'>\n"
          ]
        }
      ]
    },
    {
      "cell_type": "code",
      "source": [
        "#5\n",
        "num = list(range(1,21,2))\n",
        "a = list(\"Korea\")\n",
        "print(len(num))\n",
        "print(len(a))"
      ],
      "metadata": {
        "colab": {
          "base_uri": "https://localhost:8080/"
        },
        "id": "Rdq31bJiM9ah",
        "outputId": "79543ff6-eca8-491a-f667-c6a0835fc11e"
      },
      "execution_count": 14,
      "outputs": [
        {
          "output_type": "stream",
          "name": "stdout",
          "text": [
            "10\n",
            "5\n"
          ]
        }
      ]
    },
    {
      "cell_type": "code",
      "source": [
        "#6\n",
        "score = [88,95,70,100,99,80,78,50]\n",
        "print(\"학생 수는\",len(score),\"명 입니다.\")\n",
        "print(\"최고 점수는\",max(score),\"점 입니다\")\n",
        "print(\"최고 점수는\",min(score),\"점 입니다\")"
      ],
      "metadata": {
        "colab": {
          "base_uri": "https://localhost:8080/"
        },
        "id": "vd-BkrPRM9da",
        "outputId": "e176ed1e-7e1a-41d7-d9e4-8fc2d4f239ce"
      },
      "execution_count": 15,
      "outputs": [
        {
          "output_type": "stream",
          "name": "stdout",
          "text": [
            "학생 수는 8 명 입니다.\n",
            "최고 점수는 100 점 입니다\n",
            "최고 점수는 50 점 입니다\n"
          ]
        }
      ]
    },
    {
      "cell_type": "code",
      "source": [
        "#7\n",
        "score=[88,95,70,100,99]\n",
        "for r in range(0,4,1):\n",
        "  print(score[r],end = \" \")\n",
        "print(\"\")\n",
        "for i in range(-1,-5,-1):\n",
        "  print(score[i],end = \" \")\n"
      ],
      "metadata": {
        "colab": {
          "base_uri": "https://localhost:8080/"
        },
        "id": "mmwOulriM9f0",
        "outputId": "89f97595-4fe3-470f-caf0-2d137221aac0"
      },
      "execution_count": 29,
      "outputs": [
        {
          "output_type": "stream",
          "name": "stdout",
          "text": [
            "88 95 70 100 \n",
            "99 100 70 95 "
          ]
        }
      ]
    },
    {
      "cell_type": "markdown",
      "source": [
        "## Page23"
      ],
      "metadata": {
        "id": "WOtLpE9LPoMf"
      }
    },
    {
      "cell_type": "code",
      "source": [
        "#8\n",
        "score=[88,95,70,100,99]\n",
        "score[0] = 10\n",
        "score[1] = 20\n",
        "score[2] = 30\n",
        "score[3] = 40\n",
        "score[4] = 50\n",
        "print(score)"
      ],
      "metadata": {
        "colab": {
          "base_uri": "https://localhost:8080/"
        },
        "id": "JjXjmw70M9iV",
        "outputId": "83ebe7e2-2779-45fb-8f53-5a7d7c4005cf"
      },
      "execution_count": 19,
      "outputs": [
        {
          "output_type": "stream",
          "name": "stdout",
          "text": [
            "[10, 20, 30, 40, 50]\n"
          ]
        }
      ]
    },
    {
      "cell_type": "code",
      "source": [
        "#9\n",
        "animals = ['토끼','거북이','사자','호랑이']\n",
        "i = 0\n",
        "while(i < 4):\n",
        "    print(animals[i])\n",
        "    i +=1\n"
      ],
      "metadata": {
        "colab": {
          "base_uri": "https://localhost:8080/"
        },
        "id": "DBnWPMAEOrIw",
        "outputId": "8d1e5384-9ae6-4a1c-e2a1-65a638fd2205"
      },
      "execution_count": 24,
      "outputs": [
        {
          "output_type": "stream",
          "name": "stdout",
          "text": [
            "토끼\n",
            "거북이\n",
            "사자\n",
            "호랑이\n"
          ]
        }
      ]
    },
    {
      "cell_type": "code",
      "source": [
        "#10\n",
        "nums = [0,1,2,3,4,5,6,7,8,9]\n",
        "print(nums[2:5:1])\n",
        "print(nums[1:6:2])\n",
        "print(nums[0:5:2])"
      ],
      "metadata": {
        "colab": {
          "base_uri": "https://localhost:8080/"
        },
        "id": "LnvmUjEdOrLM",
        "outputId": "9d230874-ac10-4783-8d87-5fb3744c6c51"
      },
      "execution_count": 34,
      "outputs": [
        {
          "output_type": "stream",
          "name": "stdout",
          "text": [
            "[2, 3, 4]\n",
            "[1, 3, 5]\n",
            "[0, 2, 4]\n"
          ]
        }
      ]
    },
    {
      "cell_type": "code",
      "source": [
        "#11\n",
        "nums = [0,1,2,3,4,5,6,7,8,9]\n",
        "print(nums[0:5:1])\n",
        "print(nums[0:7:2])\n",
        "print(nums[0:5:2])"
      ],
      "metadata": {
        "colab": {
          "base_uri": "https://localhost:8080/"
        },
        "id": "OId09e2JOrN3",
        "outputId": "006c5c80-9da5-4c97-929f-ab859075daa3"
      },
      "execution_count": 36,
      "outputs": [
        {
          "output_type": "stream",
          "name": "stdout",
          "text": [
            "[0, 1, 2, 3, 4]\n",
            "[0, 2, 4, 6]\n",
            "[0, 2, 4]\n"
          ]
        }
      ]
    },
    {
      "cell_type": "code",
      "source": [
        "#12\n",
        "nums = [0,1,2,3,4,5,6,7,8,9]\n",
        "print(nums[0:10:1])\n",
        "print(nums[1:10:2])\n",
        "print(nums[0:9:2])"
      ],
      "metadata": {
        "colab": {
          "base_uri": "https://localhost:8080/"
        },
        "id": "nFPyDLLgQQHH",
        "outputId": "a70a9293-d5fa-405e-f5e8-4a612dba6d42"
      },
      "execution_count": 39,
      "outputs": [
        {
          "output_type": "stream",
          "name": "stdout",
          "text": [
            "[0, 1, 2, 3, 4, 5, 6, 7, 8, 9]\n",
            "[1, 3, 5, 7, 9]\n",
            "[0, 2, 4, 6, 8]\n"
          ]
        }
      ]
    },
    {
      "cell_type": "code",
      "source": [
        "#13\n",
        "nums = [0,1,2,3,4,5,6,7,8,9]\n",
        "print(nums[2:5:1])\n",
        "print(nums[1:7:1])\n",
        "print(nums[0:5:1])"
      ],
      "metadata": {
        "colab": {
          "base_uri": "https://localhost:8080/"
        },
        "id": "xpCmbXVwQQJe",
        "outputId": "c24c2f19-cc89-4525-eddf-f453f6672a01"
      },
      "execution_count": 41,
      "outputs": [
        {
          "output_type": "stream",
          "name": "stdout",
          "text": [
            "[2, 3, 4]\n",
            "[1, 2, 3, 4, 5, 6]\n",
            "[0, 1, 2, 3, 4]\n"
          ]
        }
      ]
    },
    {
      "cell_type": "code",
      "source": [
        "#14\n",
        "fruits = ['사과','오렌지','딸기','포도','감','키위','멜론','수박']\n",
        "print(fruits[0])\n",
        "print(fruits[1:3:1])\n",
        "print(fruits[2:8:1])\n",
        "print(fruits[4:6:1])\n",
        "print(fruits[5:8:1])"
      ],
      "metadata": {
        "colab": {
          "base_uri": "https://localhost:8080/"
        },
        "id": "mkkSg-tUQQMQ",
        "outputId": "c191a6ca-6fe7-49e8-f63f-30da554b0d5e"
      },
      "execution_count": 42,
      "outputs": [
        {
          "output_type": "stream",
          "name": "stdout",
          "text": [
            "사과\n",
            "['오렌지', '딸기']\n",
            "['딸기', '포도', '감', '키위', '멜론', '수박']\n",
            "['감', '키위']\n",
            "['키위', '멜론', '수박']\n"
          ]
        }
      ]
    },
    {
      "cell_type": "code",
      "source": [
        "#15\n",
        "print(list(\"korea\"))"
      ],
      "metadata": {
        "colab": {
          "base_uri": "https://localhost:8080/"
        },
        "id": "h9UVofhfRUne",
        "outputId": "63f21b50-1d5d-4513-c1ac-ca42895dbcb9"
      },
      "execution_count": 43,
      "outputs": [
        {
          "output_type": "stream",
          "name": "stdout",
          "text": [
            "['k', 'o', 'r', 'e', 'a']\n"
          ]
        }
      ]
    },
    {
      "cell_type": "code",
      "source": [
        "#16\n",
        "my_list = list(\"PythonIsFun!\")\n",
        "print(list(my_list))\n",
        "print(list(my_list[5:11:1]))\n",
        "print(list(my_list[7:10:1]))\n",
        "print(list(my_list[0:4:1]))\n",
        "print(list(my_list[8:12:1]))"
      ],
      "metadata": {
        "colab": {
          "base_uri": "https://localhost:8080/"
        },
        "id": "-nPHQqDzRUrM",
        "outputId": "7274743a-1022-4d75-92a3-0de44774d542"
      },
      "execution_count": 53,
      "outputs": [
        {
          "output_type": "stream",
          "name": "stdout",
          "text": [
            "['P', 'y', 't', 'h', 'o', 'n', 'I', 's', 'F', 'u', 'n', '!']\n",
            "['n', 'I', 's', 'F', 'u', 'n']\n",
            "['s', 'F', 'u']\n",
            "['P', 'y', 't', 'h']\n",
            "['F', 'u', 'n', '!']\n"
          ]
        }
      ]
    },
    {
      "cell_type": "markdown",
      "source": [
        "## Page24"
      ],
      "metadata": {
        "id": "o4QafM8kS03V"
      }
    },
    {
      "cell_type": "code",
      "source": [
        "#17\n",
        "s = \"python\"\n",
        "print((s[2]))\n",
        "print((s[4]))\n",
        "print((s[1:4:1]))"
      ],
      "metadata": {
        "colab": {
          "base_uri": "https://localhost:8080/"
        },
        "id": "ap7UwfHDRUvm",
        "outputId": "938caa58-f194-499a-904e-355183039186"
      },
      "execution_count": 57,
      "outputs": [
        {
          "output_type": "stream",
          "name": "stdout",
          "text": [
            "t\n",
            "o\n",
            "yth\n"
          ]
        }
      ]
    },
    {
      "cell_type": "code",
      "source": [
        "#18\n",
        "file = \"20210505-104830.jpg\"\n",
        "print(\"촬영 날짜:\",file[5]+\"월\"+file[7]+\"일\")\n",
        "print(\"촬영 시간:\",file[9:11:1]+\"시\"+file[11:13:1]+\"분\")\n",
        "print(\"확장자:\",file[16:20:1])"
      ],
      "metadata": {
        "colab": {
          "base_uri": "https://localhost:8080/"
        },
        "id": "cYSkDvwDTNCJ",
        "outputId": "3eba3345-aadd-405a-b87e-2c20104ae64c"
      },
      "execution_count": 62,
      "outputs": [
        {
          "output_type": "stream",
          "name": "stdout",
          "text": [
            "촬영 날짜: 5월5일\n",
            "촬영 시간: 10시48분\n",
            "확장자: jpg\n"
          ]
        }
      ]
    },
    {
      "cell_type": "code",
      "source": [
        "#19\n",
        "s = \"차종:코란도C,제조사:쌍용,배기량: 1998\"\n",
        "print(s[12:14:1])"
      ],
      "metadata": {
        "colab": {
          "base_uri": "https://localhost:8080/"
        },
        "id": "6oGpZWXSTNFB",
        "outputId": "26238ffd-b74c-46f3-b14f-b5eac9c34ba7"
      },
      "execution_count": 63,
      "outputs": [
        {
          "output_type": "stream",
          "name": "stdout",
          "text": [
            "쌍용\n"
          ]
        }
      ]
    },
    {
      "cell_type": "code",
      "source": [
        "#20\n",
        "jumin = \"901231-194983\"\n",
        "year = jumin[0:2:1]\n",
        "if(jumin[7]=='2'):\n",
        "  gender = \"여자\"\n",
        "else:\n",
        "  gender = \"남자\"\n",
        "print(\"{}년생 {}입니다.\".format(year,gender))"
      ],
      "metadata": {
        "colab": {
          "base_uri": "https://localhost:8080/"
        },
        "id": "xTRlt2QkTNH4",
        "outputId": "cd1b7067-0455-42c8-d351-99bd017a76d2"
      },
      "execution_count": 100,
      "outputs": [
        {
          "output_type": "stream",
          "name": "stdout",
          "text": [
            "90년생 남자입니다.\n"
          ]
        }
      ]
    },
    {
      "cell_type": "code",
      "source": [
        "#21\n",
        "nums = [1,2,3,4]\n",
        "nums.append(5)\n",
        "print(nums)\n",
        "nums.insert(2,99)\n",
        "print(nums)"
      ],
      "metadata": {
        "colab": {
          "base_uri": "https://localhost:8080/"
        },
        "id": "PI9dHtALTNKh",
        "outputId": "f1f0f04b-37da-4783-cc3e-a8c230000c0e"
      },
      "execution_count": 79,
      "outputs": [
        {
          "output_type": "stream",
          "name": "stdout",
          "text": [
            "[1, 2, 3, 4, 5]\n",
            "[1, 2, 99, 3, 4, 5]\n"
          ]
        }
      ]
    },
    {
      "cell_type": "code",
      "source": [
        "#22\n",
        "list1 = [1,2,3,4,5]\n",
        "list2 = [10,11]\n",
        "list1.extend(list2)\n",
        "print(list1)\n"
      ],
      "metadata": {
        "colab": {
          "base_uri": "https://localhost:8080/"
        },
        "id": "NmCTVLPFWxe1",
        "outputId": "8b4f763b-fa37-43cd-fc8e-678ca58a8be0"
      },
      "execution_count": 83,
      "outputs": [
        {
          "output_type": "stream",
          "name": "stdout",
          "text": [
            "[1, 2, 3, 4, 5, 10, 11]\n"
          ]
        }
      ]
    },
    {
      "cell_type": "code",
      "source": [
        "#23\n",
        "score = [80,95,70,100,99]\n",
        "print(\"100의 위치: \",score.index(100)+1)\n",
        "print(score.pop())\n",
        "print(score.pop())\n",
        "print(score.pop(1))\n",
        "print(score)"
      ],
      "metadata": {
        "colab": {
          "base_uri": "https://localhost:8080/"
        },
        "id": "zfROOH86Wx1i",
        "outputId": "d9b949fc-3ca2-43ea-a746-126bb963e6a8"
      },
      "execution_count": 101,
      "outputs": [
        {
          "output_type": "stream",
          "name": "stdout",
          "text": [
            "100의 위치:  4\n",
            "99\n",
            "100\n",
            "95\n",
            "[80, 70]\n"
          ]
        }
      ]
    },
    {
      "cell_type": "markdown",
      "source": [
        "## Page25"
      ],
      "metadata": {
        "id": "1gwifD3goEVe"
      }
    },
    {
      "cell_type": "code",
      "source": [
        "#24\n",
        "score = [88,95,70,100,99]\n",
        "score.remove(99)\n",
        "print(\"99삭제 후:\",score)\n",
        "score.sort()\n",
        "print(\"리스트 정렬 후:\",score)\n",
        "score.reverse()\n",
        "print(\"거꾸로 정렬:\",score)\n",
        "score.clear()\n",
        "print(\"리스트 삭제:\",score)"
      ],
      "metadata": {
        "colab": {
          "base_uri": "https://localhost:8080/"
        },
        "id": "UCRqssefoIdU",
        "outputId": "d0ff5ce8-e9be-4c81-fbc3-445691e099c8"
      },
      "execution_count": 103,
      "outputs": [
        {
          "output_type": "stream",
          "name": "stdout",
          "text": [
            "99삭제 후: [88, 95, 70, 100]\n",
            "리스트 정렬 후: [70, 88, 95, 100]\n",
            "거꾸로 정렬: [100, 95, 88, 70]\n",
            "리스트 삭제: []\n"
          ]
        }
      ]
    },
    {
      "cell_type": "code",
      "source": [
        "#25\n",
        "list = ['a','bb','c','d','aaa','c','ddd','aaa','b','cc','d','aaa']\n",
        "length = list.count('aaa')\n",
        "print(length)"
      ],
      "metadata": {
        "colab": {
          "base_uri": "https://localhost:8080/"
        },
        "id": "Lnj_-JTQoIh8",
        "outputId": "8eac1af5-b416-4182-d527-b8c272177e5b"
      },
      "execution_count": 104,
      "outputs": [
        {
          "output_type": "stream",
          "name": "stdout",
          "text": [
            "3\n"
          ]
        }
      ]
    },
    {
      "cell_type": "code",
      "source": [
        "#26\n",
        "mylist = ['사과','바나나','파인애플']\n",
        "mylist.append('키위')\n",
        "mylist.append('배')\n",
        "for i in range(0,5,1):\n",
        "  print(mylist[i])\n",
        "  i+=1"
      ],
      "metadata": {
        "colab": {
          "base_uri": "https://localhost:8080/"
        },
        "id": "gr382MPwoIlu",
        "outputId": "648e407d-e706-49fd-a06f-632b116a57f4"
      },
      "execution_count": 106,
      "outputs": [
        {
          "output_type": "stream",
          "name": "stdout",
          "text": [
            "사과\n",
            "바나나\n",
            "파인애플\n",
            "키위\n",
            "배\n"
          ]
        }
      ]
    },
    {
      "cell_type": "code",
      "source": [
        "#27\n",
        "scores = []\n",
        "while True:\n",
        "  socres = int(input(\"성적을 입력하세요(종료:-1): \"))\n",
        "  if(scores == -1):\n",
        "    \n",
        "print(scores)"
      ],
      "metadata": {
        "colab": {
          "base_uri": "https://localhost:8080/"
        },
        "id": "ALt8DLy0oIpy",
        "outputId": "419cccbb-db8a-486f-d63c-eb9a3aff4066"
      },
      "execution_count": null,
      "outputs": [
        {
          "name": "stdout",
          "output_type": "stream",
          "text": [
            "성적을 입력하세요(종료:-1): 88\n",
            "성적을 입력하세요(종료:-1): -1\n"
          ]
        }
      ]
    },
    {
      "cell_type": "code",
      "source": [],
      "metadata": {
        "id": "-tEg5-7KoIts"
      },
      "execution_count": null,
      "outputs": []
    }
  ]
}