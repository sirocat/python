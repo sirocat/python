{
  "nbformat": 4,
  "nbformat_minor": 0,
  "metadata": {
    "colab": {
      "provenance": [],
      "authorship_tag": "ABX9TyM+2u0TY12d9GGhYAPpq2OI",
      "include_colab_link": true
    },
    "kernelspec": {
      "name": "python3",
      "display_name": "Python 3"
    },
    "language_info": {
      "name": "python"
    }
  },
  "cells": [
    {
      "cell_type": "markdown",
      "metadata": {
        "id": "view-in-github",
        "colab_type": "text"
      },
      "source": [
        "<a href=\"https://colab.research.google.com/github/sirocat/python/blob/main/%EC%88%98%ED%96%89%ED%8F%89%EA%B0%80_%EC%97%B0%EC%8A%B5.ipynb\" target=\"_parent\"><img src=\"https://colab.research.google.com/assets/colab-badge.svg\" alt=\"Open In Colab\"/></a>"
      ]
    },
    {
      "cell_type": "code",
      "execution_count": 3,
      "metadata": {
        "colab": {
          "base_uri": "https://localhost:8080/"
        },
        "id": "R6Ok-3BTVl0x",
        "outputId": "95b765b3-089a-48e1-983e-98732661cf40"
      },
      "outputs": [
        {
          "output_type": "stream",
          "name": "stdout",
          "text": [
            "토끼\n",
            "거북이\n",
            "사자\n",
            "호랑이\n"
          ]
        }
      ],
      "source": [
        "animals = ['토끼','거북이','사자','호랑이']\n",
        "for i in range(len(animals)):\n",
        "  print(animals[i])"
      ]
    },
    {
      "cell_type": "code",
      "source": [
        "nums = [1,2,3,4]\n",
        "nums.append(5)\n",
        "print(nums)\n",
        "nums.insert(2,99)\n",
        "print(nums)"
      ],
      "metadata": {
        "colab": {
          "base_uri": "https://localhost:8080/"
        },
        "id": "q4ye1O8zWG0v",
        "outputId": "bcf27605-8901-49c2-bdaf-fb692df62377"
      },
      "execution_count": 5,
      "outputs": [
        {
          "output_type": "stream",
          "name": "stdout",
          "text": [
            "[1, 2, 3, 4, 5]\n",
            "[1, 2, 99, 3, 4, 5]\n"
          ]
        }
      ]
    },
    {
      "cell_type": "code",
      "source": [
        "list1 = [1,2,3,4,5]\n",
        "list2 = [10,11]\n",
        "list1.extend(list2)\n",
        "print(list1)"
      ],
      "metadata": {
        "colab": {
          "base_uri": "https://localhost:8080/"
        },
        "id": "BYErAbMPWwDh",
        "outputId": "4d72c894-b620-4181-d403-537758cf41ee"
      },
      "execution_count": 6,
      "outputs": [
        {
          "output_type": "stream",
          "name": "stdout",
          "text": [
            "[1, 2, 3, 4, 5, 10, 11]\n"
          ]
        }
      ]
    },
    {
      "cell_type": "code",
      "source": [
        "score = [88,95,70,100,99]\n",
        "print(\"100의 위치: \",score.index(100)+1)\n",
        "\n",
        "print(score.pop())\n",
        "print(score.pop())\n",
        "print(score.pop(1))\n",
        "print(score)"
      ],
      "metadata": {
        "colab": {
          "base_uri": "https://localhost:8080/"
        },
        "id": "07VsbS5eW3rw",
        "outputId": "a20ee17f-83ea-491c-f93e-2726e9557065"
      },
      "execution_count": 7,
      "outputs": [
        {
          "output_type": "stream",
          "name": "stdout",
          "text": [
            "100의 위치:  4\n",
            "99\n",
            "100\n",
            "95\n",
            "[88, 70]\n"
          ]
        }
      ]
    },
    {
      "cell_type": "code",
      "source": [
        "score = [88,95,70,100,99]\n",
        "\n",
        "score.pop(4)\n",
        "print(\"99삭제 후: \",score)\n",
        "score.sort()\n",
        "print(\"리스트 정렬 후:\",score)\n",
        "score.reverse()\n",
        "print(\"거꾸로 정렬: \",score)\n",
        "score.clear()\n",
        "print(\"리스트 삭제:\" ,score)"
      ],
      "metadata": {
        "colab": {
          "base_uri": "https://localhost:8080/"
        },
        "id": "3M9auS9-YFRv",
        "outputId": "e3a10730-e774-4198-ce3c-1cf040b7f0bb"
      },
      "execution_count": 12,
      "outputs": [
        {
          "output_type": "stream",
          "name": "stdout",
          "text": [
            "99삭제 후:  [88, 95, 70, 100]\n",
            "리스트 정렬 후: [70, 88, 95, 100]\n",
            "거꾸로 정렬:  [100, 95, 88, 70]\n",
            "리스트 삭제: []\n"
          ]
        }
      ]
    },
    {
      "cell_type": "code",
      "source": [
        "list1 = ['a','bb','c','d','aaa','c','ddd','aaa','b','cc','d','aaa']\n",
        "length = list1.count('aaa')\n",
        "print(length)"
      ],
      "metadata": {
        "colab": {
          "base_uri": "https://localhost:8080/"
        },
        "id": "JT9Jf7W0Y7sG",
        "outputId": "045e8bf7-6887-42b1-d0d7-200488485459"
      },
      "execution_count": 14,
      "outputs": [
        {
          "output_type": "stream",
          "name": "stdout",
          "text": [
            "3\n"
          ]
        }
      ]
    },
    {
      "cell_type": "code",
      "source": [
        "mylist = ['사과','바나나','파인애플']\n",
        "mylist.append('키위')\n",
        "mylist.append('배')\n",
        "for a in mylist:\n",
        "  print(a)"
      ],
      "metadata": {
        "colab": {
          "base_uri": "https://localhost:8080/"
        },
        "id": "WXEUbJC1ZTeW",
        "outputId": "bf4add42-4ecc-4122-92ed-eec705cd519a"
      },
      "execution_count": 17,
      "outputs": [
        {
          "output_type": "stream",
          "name": "stdout",
          "text": [
            "사과\n",
            "바나나\n",
            "파인애플\n",
            "키위\n",
            "배\n"
          ]
        }
      ]
    },
    {
      "cell_type": "code",
      "source": [
        "emails = [[\"kim\",\"naver.com\"],[\"hwang\",\"hanmail.net\"],[\"lee\",\"korea.com\"],[\"choi\",\"gamil.com\"]]\n",
        "email_new = []\n",
        "for email in emails:\n",
        "  email_new.append(eamail[0]+\"@\"+email[1])\n",
        "print(email_new)"
      ],
      "metadata": {
        "colab": {
          "base_uri": "https://localhost:8080/",
          "height": 231
        },
        "id": "0ak0lL0rZTiO",
        "outputId": "929f54db-6795-48e0-a0e0-391d779ef06e"
      },
      "execution_count": 21,
      "outputs": [
        {
          "output_type": "error",
          "ename": "NameError",
          "evalue": "ignored",
          "traceback": [
            "\u001b[0;31m---------------------------------------------------------------------------\u001b[0m",
            "\u001b[0;31mNameError\u001b[0m                                 Traceback (most recent call last)",
            "\u001b[0;32m<ipython-input-21-cd531dbaeecc>\u001b[0m in \u001b[0;36m<cell line: 3>\u001b[0;34m()\u001b[0m\n\u001b[1;32m      2\u001b[0m \u001b[0memail_new\u001b[0m \u001b[0;34m=\u001b[0m \u001b[0;34m[\u001b[0m\u001b[0;34m]\u001b[0m\u001b[0;34m\u001b[0m\u001b[0;34m\u001b[0m\u001b[0m\n\u001b[1;32m      3\u001b[0m \u001b[0;32mfor\u001b[0m \u001b[0memail\u001b[0m \u001b[0;32min\u001b[0m \u001b[0memails\u001b[0m\u001b[0;34m:\u001b[0m\u001b[0;34m\u001b[0m\u001b[0;34m\u001b[0m\u001b[0m\n\u001b[0;32m----> 4\u001b[0;31m   \u001b[0memail_new\u001b[0m\u001b[0;34m.\u001b[0m\u001b[0mappend\u001b[0m\u001b[0;34m(\u001b[0m\u001b[0meamails\u001b[0m\u001b[0;34m[\u001b[0m\u001b[0;36m0\u001b[0m\u001b[0;34m]\u001b[0m\u001b[0;34m+\u001b[0m\u001b[0;34m\"@\"\u001b[0m\u001b[0;34m+\u001b[0m\u001b[0memails\u001b[0m\u001b[0;34m[\u001b[0m\u001b[0;36m1\u001b[0m\u001b[0;34m]\u001b[0m\u001b[0;34m)\u001b[0m\u001b[0;34m\u001b[0m\u001b[0;34m\u001b[0m\u001b[0m\n\u001b[0m\u001b[1;32m      5\u001b[0m \u001b[0mprint\u001b[0m\u001b[0;34m(\u001b[0m\u001b[0memail_new\u001b[0m\u001b[0;34m)\u001b[0m\u001b[0;34m\u001b[0m\u001b[0;34m\u001b[0m\u001b[0m\n",
            "\u001b[0;31mNameError\u001b[0m: name 'eamails' is not defined"
          ]
        }
      ]
    },
    {
      "cell_type": "code",
      "source": [
        "score = [1,3,5,7,9,11,13]\n",
        "cnt = 0\n",
        "for i in range(7):\n",
        "  if score[i] < 10:\n",
        "    print(score[i],end = \" \")\n",
        "    cnt += 1\n",
        "print()\n",
        "print(\"10보다 작은 수의 개수: %s\"%cnt)"
      ],
      "metadata": {
        "colab": {
          "base_uri": "https://localhost:8080/"
        },
        "id": "_Kws-w_AgZHx",
        "outputId": "73855052-e45a-40a8-f562-5f3d4b5e783d"
      },
      "execution_count": 24,
      "outputs": [
        {
          "output_type": "stream",
          "name": "stdout",
          "text": [
            "1 3 5 7 9 \n",
            "10보다 작은 수의 개수: 5\n"
          ]
        }
      ]
    },
    {
      "cell_type": "code",
      "source": [
        "scores = []\n",
        "sum = 0\n",
        "for i in range(5):\n",
        "    score = int(input(\"성적을 입력하세요: \"))\n",
        "    scores.append(score)\n",
        "    sum = sum + score\n",
        "\n",
        "average = sum / len(scores)\n",
        "\n",
        "print(\"총점:\", sum)\n",
        "print(\"평균:\", average)\n"
      ],
      "metadata": {
        "id": "RxljDmzygZK0"
      },
      "execution_count": null,
      "outputs": []
    },
    {
      "cell_type": "code",
      "source": [
        "number = [10,20,30],[40,50],[60,70,80,90]\n",
        "print(number[0][0])\n",
        "print(number[1][0])\n",
        "print(number[2][0])"
      ],
      "metadata": {
        "colab": {
          "base_uri": "https://localhost:8080/"
        },
        "id": "3EeK6eYchW7I",
        "outputId": "42cb45ed-d822-4752-fb07-94a5b041146a"
      },
      "execution_count": 25,
      "outputs": [
        {
          "output_type": "stream",
          "name": "stdout",
          "text": [
            "10\n",
            "40\n",
            "60\n"
          ]
        }
      ]
    },
    {
      "cell_type": "code",
      "source": [
        "score = [[88,76,92,98],[65,70,58,82],[82,80,78,88]]\n",
        "total = 0\n",
        "totalsub = 0\n",
        "for i in range(len(score)):\n",
        "  for j in range(len(score[i])):\n",
        "    total += score[i][j]\n",
        "  print(\"총점: \",total,end = ' ')\n",
        "  print(\"평균: \",total/4)\n",
        "  totalsub += total\n",
        "  total = 0\n",
        "print(\"전체평균 : \",totalsub/12)"
      ],
      "metadata": {
        "id": "mH15wfiTh2gL"
      },
      "execution_count": null,
      "outputs": []
    },
    {
      "cell_type": "code",
      "source": [
        "questions = ['tr_in','b_s','_axi','air_lane']\n",
        "answers = ['a','u','t','p']\n",
        "count = 0\n",
        "for i in range(4):\n",
        "  q = '%s 에서 밑줄(_)안에 들어갈 알파벳은?'%questions[i]\n",
        "  ans = input(q)t\n",
        "  if ans == answers[i]:\n",
        "    print(\"정답입니다\")\n",
        "    count += 1\n",
        "  else:\n",
        "    print(\"틀렸습니다\")\n",
        "print(\"당신의 점수는 %d/4입니다\"%count)"
      ],
      "metadata": {
        "colab": {
          "base_uri": "https://localhost:8080/"
        },
        "id": "2MgxGz57iAtX",
        "outputId": "9097bd3f-7af8-466f-dc5b-18ba495647bb"
      },
      "execution_count": 28,
      "outputs": [
        {
          "output_type": "stream",
          "name": "stdout",
          "text": [
            "tr_in 에서 밑줄(_)안에 들어갈 알파벳은?a\n",
            "정답입니다\n",
            "b_s 에서 밑줄(_)안에 들어갈 알파벳은?i\n",
            "틀렸습니다\n",
            "_axi 에서 밑줄(_)안에 들어갈 알파벳은?t\n",
            "정답입니다\n",
            "air_lane 에서 밑줄(_)안에 들어갈 알파벳은?p\n",
            "정답입니다\n",
            "당신의 점수는 3/4입니다\n"
          ]
        }
      ]
    },
    {
      "cell_type": "code",
      "source": [
        "scores = [[96,84,80],[96,86,76],[76,95,83],[89,96,69],[83,86,79],[85,90,83]]\n",
        "i = 0\n",
        "while (i) < len(scores):\n",
        "  total = 0\n",
        "  total = scores[i][0]+scores[i][1]+scores[i][2]\n",
        "  print(\"%d번째 학생의 합계 : %d, 평균 : %2.f\"%(i+1,total,total/3))\n",
        "  i += 1"
      ],
      "metadata": {
        "id": "e_JREnN-jZ3b"
      },
      "execution_count": null,
      "outputs": []
    },
    {
      "cell_type": "code",
      "source": [
        "li = []\n",
        "for n in range(1,10):\n",
        "  if n % 3 == 0:\n",
        "    li.append(n*n)\n",
        "print(li)"
      ],
      "metadata": {
        "colab": {
          "base_uri": "https://localhost:8080/"
        },
        "id": "lvJsLdFxjrBR",
        "outputId": "460dde8d-522f-494e-b95b-dc83a18cc2d0"
      },
      "execution_count": 29,
      "outputs": [
        {
          "output_type": "stream",
          "name": "stdout",
          "text": [
            "[9, 36, 81]\n"
          ]
        }
      ]
    },
    {
      "cell_type": "code",
      "source": [
        "numbers = [1,2,3,4,5]\n",
        "result = [2*n for n in range(6) if n%2==1]\n",
        "print(result)"
      ],
      "metadata": {
        "id": "QVziJMhOj9_f"
      },
      "execution_count": null,
      "outputs": []
    },
    {
      "cell_type": "code",
      "source": [
        "for i in [1,2,3]:\n",
        "  for j in ['a','b','c']:\n",
        "    print(i*j,end = ' ')"
      ],
      "metadata": {
        "id": "tbgKXDwpkA1C"
      },
      "execution_count": null,
      "outputs": []
    },
    {
      "cell_type": "code",
      "source": [
        "sentence = input('문장을 입력해 주세요: ')\n",
        "reversed_sentence = \"\"\n",
        "index = len(sentence) - 1\n",
        "while index >= 0:\n",
        "\n",
        "    if sentence[index] == ' ':\n",
        "      reversed_sentence += '-'\n",
        "      index -=1\n",
        "    else:\n",
        "      reversed_sentence += sentence[index]\n",
        "      index -= 1\n",
        "\n",
        "print(reversed_sentence)"
      ],
      "metadata": {
        "id": "J-n7p0W9kA3R"
      },
      "execution_count": null,
      "outputs": []
    },
    {
      "cell_type": "code",
      "source": [
        "jumin = '901231-1914983'\n",
        "year = jumin[0:2]\n",
        "if jumin[7] == '1':\n",
        "  gender = '남자'\n",
        "else:\n",
        "  gender = '여자'\n",
        "print(year+'년생 '+gender+\"입니다\")"
      ],
      "metadata": {
        "colab": {
          "base_uri": "https://localhost:8080/"
        },
        "id": "31g_fsJqkKNO",
        "outputId": "2f72a8f6-f287-49bf-d11e-475808a9eb68"
      },
      "execution_count": 30,
      "outputs": [
        {
          "output_type": "stream",
          "name": "stdout",
          "text": [
            "90년생 남자입니다\n"
          ]
        }
      ]
    },
    {
      "cell_type": "code",
      "source": [
        "BTS = \"정국, 진, 뷔, 슈가, 지민, RM, 제이홉\"\n",
        "BTS_members = BTS.split(',')\n",
        "print(\"방탄멤버:\",BTS_members)\n",
        "for member in BTS_members:\n",
        "    print(member.strip(), \"사랑해\")"
      ],
      "metadata": {
        "id": "IUOHDn_skKQR"
      },
      "execution_count": null,
      "outputs": []
    },
    {
      "cell_type": "code",
      "source": [
        "file_names = [\"file1.py\", \"file2.txt\", \"file.pptx\",\"file4.doc\"]\n",
        "for file_name in file_names:\n",
        "  arr = file_name.split(\".\")\n",
        "  print(f'{file_name :11}=> 파일명:{arr[0]},확장자:{arr[1]}')"
      ],
      "metadata": {
        "id": "CO-sqzSVkKTV"
      },
      "execution_count": null,
      "outputs": []
    },
    {
      "cell_type": "code",
      "source": [
        "sentence = input(\"문자열 입력: \")\n",
        "words = sentence.split()\n",
        "\n",
        "abbreviation = \"\"\n",
        "for word in words:\n",
        "    abbreviation += word[0].upper()\n",
        "\n",
        "print(\"줄임말:\", abbreviation)"
      ],
      "metadata": {
        "id": "QZZ5HHrbkKWj"
      },
      "execution_count": null,
      "outputs": []
    },
    {
      "cell_type": "code",
      "source": [
        "print(\",\".join('abcd'))\n",
        "print(\"::\".join([\"1\",\"2\",\"3\",\"4\",\"5\"]))"
      ],
      "metadata": {
        "id": "L8b8XANJkYrD"
      },
      "execution_count": null,
      "outputs": []
    },
    {
      "cell_type": "code",
      "source": [
        "s = \"python programming\"\n",
        "print('a' in s)\n",
        "print('z' in s)\n",
        "print('pro' in s)\n",
        "print('x' not in s)"
      ],
      "metadata": {
        "colab": {
          "base_uri": "https://localhost:8080/"
        },
        "id": "sNNUy3tmkYt2",
        "outputId": "d8a600b0-66f5-4fcd-f108-6af37b73cc90"
      },
      "execution_count": 31,
      "outputs": [
        {
          "output_type": "stream",
          "name": "stdout",
          "text": [
            "12\n",
            "-1\n",
            "7\n",
            "-1\n"
          ]
        }
      ]
    },
    {
      "cell_type": "code",
      "source": [
        "s = input(\"영어 문장을 입력하세요\")\n",
        "i = 0\n",
        "count = 0\n",
        "while i <= len(s)-1:\n",
        "  if s[i] in 'aeiouAEIOU':\n",
        "    count+=1\n",
        "    print(s[i],end=' ')\n",
        "  i+=1\n",
        "\n",
        "print('\\n모음의 개수 : %d'%count)"
      ],
      "metadata": {
        "id": "dBAdbk0FkYw3"
      },
      "execution_count": null,
      "outputs": []
    },
    {
      "cell_type": "code",
      "source": [
        "height = input(\"키를 입력하세요: \")\n",
        "if height.isdecimal():\n",
        "  print(\"키 = \",height)\n",
        "else:\n",
        "  print(\"숫자만 입력하세요\")"
      ],
      "metadata": {
        "id": "nhXAJXKrkyjv"
      },
      "execution_count": null,
      "outputs": []
    },
    {
      "cell_type": "code",
      "source": [
        "data = input(\"문자열 입력: \")\n",
        "for i in range(len(data)+1):\n",
        "  if data.islower():\n",
        "    print(\"x\",end='')\n",
        "  else:\n",
        "    print(\"o\",end='')"
      ],
      "metadata": {
        "colab": {
          "base_uri": "https://localhost:8080/"
        },
        "id": "yuenBagPkymY",
        "outputId": "fbe29433-fd9c-452b-df05-9d0b4c75330a"
      },
      "execution_count": 50,
      "outputs": [
        {
          "output_type": "stream",
          "name": "stdout",
          "text": [
            "문자열 입력: difq\n",
            "xxxxx"
          ]
        }
      ]
    },
    {
      "cell_type": "code",
      "source": [
        "s = \"good morning. MyLove kim\"\n",
        "\n",
        "print('문자열: ',s)\n",
        "print(\"대문자로 변경: \",s.upper())\n",
        "print(\"소문자로 변경: \",s.lower())"
      ],
      "metadata": {
        "colab": {
          "base_uri": "https://localhost:8080/"
        },
        "id": "9Ps-0aVwk3l2",
        "outputId": "04498cb3-7435-40c3-c7eb-f3b5476106af"
      },
      "execution_count": 32,
      "outputs": [
        {
          "output_type": "stream",
          "name": "stdout",
          "text": [
            "문자열:  good morning. MyLove kim\n",
            "대문자로 변경:  GOOD MORNING. MYLOVE KIM\n",
            "소문자로 변경:  good morning. mylove kim\n"
          ]
        }
      ]
    },
    {
      "cell_type": "code",
      "source": [
        "char = input(\"영문 대문자 또는 소문자 하나를 입력하세요: \")\n",
        "char2 = char.upper\n",
        "\n",
        "if char2 == 'A'or'E'or'U'or'I'or'O':\n",
        "  print(\"%s -> 모음\"%char)\n",
        "else:\n",
        "  print(\"%s -> 자음\"%char)"
      ],
      "metadata": {
        "colab": {
          "base_uri": "https://localhost:8080/"
        },
        "id": "f9F5T3cEk3od",
        "outputId": "6763e710-a0b9-4172-ccc4-410c4587916b"
      },
      "execution_count": 33,
      "outputs": [
        {
          "output_type": "stream",
          "name": "stdout",
          "text": [
            "영문 대문자 또는 소문자 하나를 입력하세요: a\n",
            "a -> 모음\n"
          ]
        }
      ]
    },
    {
      "cell_type": "code",
      "source": [
        "phone_list1 = [\"010-3654-2637\", \"010-3984-5377\", \"010-3554-0973\"]\n",
        "phone_list2 = []\n",
        "print(phone_list1)\n",
        "for phone_number in phone_list1:\n",
        "    x = phone_number.replace(\"-\", \"\")  # Remove hyphens\n",
        "    phone_list2.append(x)  # Append to the new list\n",
        "\n",
        "print(phone_list2)\n"
      ],
      "metadata": {
        "colab": {
          "base_uri": "https://localhost:8080/"
        },
        "id": "nGabnODlmQW6",
        "outputId": "b340b729-b951-4da7-bd4f-64a4803aafd9"
      },
      "execution_count": 38,
      "outputs": [
        {
          "output_type": "stream",
          "name": "stdout",
          "text": [
            "['010-3654-2637', '010-3984-5377', '010-3554-0973']\n",
            "['01036542637', '01039845377', '01035540973']\n"
          ]
        }
      ]
    },
    {
      "cell_type": "code",
      "source": [
        "s = \"a:b:c:d\"\n",
        "s = s.replace(\":\",\"#\")\n",
        "print(s)"
      ],
      "metadata": {
        "colab": {
          "base_uri": "https://localhost:8080/"
        },
        "id": "xbub2Pd5mQZx",
        "outputId": "11332ddc-6eae-42b7-d3bb-9b3d6d242450"
      },
      "execution_count": 39,
      "outputs": [
        {
          "output_type": "stream",
          "name": "stdout",
          "text": [
            "a#b#c#d\n"
          ]
        }
      ]
    },
    {
      "cell_type": "code",
      "source": [
        "phone = input(\"하이폰(-)을 뺀 11자리의 휴대폰 번호를 입력하세요: \")\n",
        "\n",
        "number = \"\"\n",
        "for i, digit in enumerate(phone):\n",
        "    if i == 2:\n",
        "        number += digit + \"-\"\n",
        "    elif i == 6:\n",
        "        number += digit + \"-\"\n",
        "    else:\n",
        "        number += digit\n",
        "\n",
        "print(\"추가된 번호:\", number)\n"
      ],
      "metadata": {
        "colab": {
          "base_uri": "https://localhost:8080/"
        },
        "id": "sUzOexwroldC",
        "outputId": "8fba14ad-49e1-4f81-f20d-7b2609effa07"
      },
      "execution_count": 42,
      "outputs": [
        {
          "output_type": "stream",
          "name": "stdout",
          "text": [
            "하이폰(-)을 뺀 11자리의 휴대폰 번호를 입력하세요: 01012345678\n",
            "추가된 번호: 010-1234-5678\n"
          ]
        }
      ]
    },
    {
      "cell_type": "code",
      "source": [
        "a = \"Tom Dick Harry\"\n",
        "a = a.split()\n",
        "for i in range(len(a)):\n",
        "  a[i] = sorted(a[i])\n",
        "  a[i] = ''.join(a[i])\n",
        "\n",
        "print(', '.join(a))\n"
      ],
      "metadata": {
        "colab": {
          "base_uri": "https://localhost:8080/"
        },
        "id": "kV5pbcVYpX8m",
        "outputId": "3727b3ec-1a65-477c-b117-390596665484"
      },
      "execution_count": 49,
      "outputs": [
        {
          "output_type": "stream",
          "name": "stdout",
          "text": [
            "Tom,Dick,Harry\n"
          ]
        }
      ]
    },
    {
      "cell_type": "code",
      "source": [
        "word = input(\"단어를 입력하세요: \")\n",
        "count = 0\n",
        "for i in word:\n",
        "  if i in 'aeiou':\n",
        "    count +=1\n",
        "  if count>=2:\n",
        "    print (word+'way')\n",
        "  else:\n",
        "    print (word[1:]+word[0]+'ay')\n"
      ],
      "metadata": {
        "colab": {
          "base_uri": "https://localhost:8080/"
        },
        "id": "fbS3pH4DpYE5",
        "outputId": "8c041cd5-6d6b-4fe6-e691-4252c684b877"
      },
      "execution_count": 52,
      "outputs": [
        {
          "output_type": "stream",
          "name": "stdout",
          "text": [
            "단어를 입력하세요: sun\n",
            "피그라틴 변형 결과: unsay\n"
          ]
        }
      ]
    },
    {
      "cell_type": "code",
      "source": [
        "sentence = input(\"문자열 입력: \")\n",
        "new = ' '\n",
        "#now는 현재 비교할 문자 저장(맨앞글자)\n",
        "now = sentence[0]\n",
        "#now에 있는 문자가 몇 번 등장했는지 카운트\n",
        "count = 0\n",
        "for i in sentence:\n",
        "#지금 비교할 문자가now와 같다면 카운트증가\n",
        "  if i ==now:\n",
        "    count +=1\n",
        "#새 문자가 등장했다면 새로 만들기\n",
        "  else:\n",
        "    new += now + str(count)\n",
        "    now = i\n",
        "    count =1\n",
        "\n",
        "new += now + str(count)\n",
        "print(new)"
      ],
      "metadata": {
        "colab": {
          "base_uri": "https://localhost:8080/"
        },
        "id": "Vwz8HJdyrSi5",
        "outputId": "6a18cadc-7f5e-4193-d4dd-9c9d524945c9"
      },
      "execution_count": 56,
      "outputs": [
        {
          "output_type": "stream",
          "name": "stdout",
          "text": [
            "문자열 입력: aaabbbbcdddd\n",
            " a3b4c1d4\n"
          ]
        }
      ]
    },
    {
      "cell_type": "code",
      "source": [
        "yoil = \"월화수목금토일\"\n",
        "print(yoil[0]+yoil[2]+yoil[4]+yoil[6])\n",
        "print(yoil[::-1])"
      ],
      "metadata": {
        "id": "g2Ebkc3frS8B"
      },
      "execution_count": null,
      "outputs": []
    },
    {
      "cell_type": "code",
      "source": [
        "sentence = input(\"문자열 입력: \")\n",
        "for index, char in enumerate(sentence):\n",
        "    if char == 't':\n",
        "        print(f\"{index+1}\",end=' ')\n"
      ],
      "metadata": {
        "colab": {
          "base_uri": "https://localhost:8080/"
        },
        "id": "bS58YARErZMP",
        "outputId": "83d7a3b0-3f92-4bca-d2be-a2ef39acc7cd"
      },
      "execution_count": 55,
      "outputs": [
        {
          "output_type": "stream",
          "name": "stdout",
          "text": [
            "문자열 입력: test\n",
            "1 4 "
          ]
        }
      ]
    },
    {
      "cell_type": "code",
      "source": [
        "number = input(\"하이폰(-)을 포함한 휴대번호를 입력하세요: \")\n",
        "number = number.replace(\"-\", \"\")\n",
        "print(number)"
      ],
      "metadata": {
        "id": "lw91fUIorZT4"
      },
      "execution_count": null,
      "outputs": []
    }
  ]
}