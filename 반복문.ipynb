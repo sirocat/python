{
  "nbformat": 4,
  "nbformat_minor": 0,
  "metadata": {
    "colab": {
      "provenance": [],
      "authorship_tag": "ABX9TyNZZvw7PGhc21LX57YtMSo1",
      "include_colab_link": true
    },
    "kernelspec": {
      "name": "python3",
      "display_name": "Python 3"
    },
    "language_info": {
      "name": "python"
    }
  },
  "cells": [
    {
      "cell_type": "markdown",
      "metadata": {
        "id": "view-in-github",
        "colab_type": "text"
      },
      "source": [
        "<a href=\"https://colab.research.google.com/github/sirocat/python/blob/main/%EB%B0%98%EB%B3%B5%EB%AC%B8.ipynb\" target=\"_parent\"><img src=\"https://colab.research.google.com/assets/colab-badge.svg\" alt=\"Open In Colab\"/></a>"
      ]
    },
    {
      "cell_type": "markdown",
      "source": [
        "## Page18"
      ],
      "metadata": {
        "id": "PQOe1OQaya9x"
      }
    },
    {
      "cell_type": "code",
      "source": [
        "for i in [1,2,3]:\n",
        "    print(\"안녕하세요\")"
      ],
      "metadata": {
        "colab": {
          "base_uri": "https://localhost:8080/"
        },
        "id": "JwMY1T0fyf6f",
        "outputId": "dbb82c8c-b5fe-445c-a3b6-cf1a1006d08a"
      },
      "execution_count": null,
      "outputs": [
        {
          "output_type": "stream",
          "name": "stdout",
          "text": [
            "안녕하세요\n",
            "안녕하세요\n",
            "안녕하세요\n"
          ]
        }
      ]
    },
    {
      "cell_type": "code",
      "source": [
        "for i in range(0,10,1):\n",
        "  print(i)"
      ],
      "metadata": {
        "id": "HaPdDTvSyqqG",
        "colab": {
          "base_uri": "https://localhost:8080/"
        },
        "outputId": "acb070a9-b167-4a81-e453-9b67eef5fc73"
      },
      "execution_count": 3,
      "outputs": [
        {
          "output_type": "stream",
          "name": "stdout",
          "text": [
            "0\n",
            "1\n",
            "2\n",
            "3\n",
            "4\n",
            "5\n",
            "6\n",
            "7\n",
            "8\n",
            "9\n"
          ]
        }
      ]
    },
    {
      "cell_type": "code",
      "source": [
        "for i in range(1,11,1):\n",
        "  print(i)"
      ],
      "metadata": {
        "id": "o5nCjevEyqtu",
        "colab": {
          "base_uri": "https://localhost:8080/"
        },
        "outputId": "a9ff6d51-758b-437d-bbae-209b2a9973b6"
      },
      "execution_count": 4,
      "outputs": [
        {
          "output_type": "stream",
          "name": "stdout",
          "text": [
            "1\n",
            "2\n",
            "3\n",
            "4\n",
            "5\n",
            "6\n",
            "7\n",
            "8\n",
            "9\n",
            "10\n"
          ]
        }
      ]
    },
    {
      "cell_type": "code",
      "source": [
        "for i in range(1,10,2):\n",
        "  print(i)"
      ],
      "metadata": {
        "colab": {
          "base_uri": "https://localhost:8080/"
        },
        "id": "TCnVbkf137lg",
        "outputId": "aa4e104b-363a-46f4-c5c8-a42ce1462e4a"
      },
      "execution_count": 27,
      "outputs": [
        {
          "output_type": "stream",
          "name": "stdout",
          "text": [
            "1\n",
            "3\n",
            "5\n",
            "7\n",
            "9\n"
          ]
        }
      ]
    },
    {
      "cell_type": "code",
      "source": [
        "for i in range(20,0,-2):\n",
        "  print(i)"
      ],
      "metadata": {
        "id": "3wq_vXOPyqxR",
        "colab": {
          "base_uri": "https://localhost:8080/"
        },
        "outputId": "477490f8-232f-473e-b589-80393bff2ba0"
      },
      "execution_count": 6,
      "outputs": [
        {
          "output_type": "stream",
          "name": "stdout",
          "text": [
            "20\n",
            "18\n",
            "16\n",
            "14\n",
            "12\n",
            "10\n",
            "8\n",
            "6\n",
            "4\n",
            "2\n"
          ]
        }
      ]
    },
    {
      "cell_type": "code",
      "source": [
        "for i in range(0,3,1):\n",
        "  print(\"안녕하세요\")"
      ],
      "metadata": {
        "colab": {
          "base_uri": "https://localhost:8080/"
        },
        "id": "PDvBUJnc031g",
        "outputId": "d7fa18ca-031f-4e93-97fe-616120216e13"
      },
      "execution_count": 9,
      "outputs": [
        {
          "output_type": "stream",
          "name": "stdout",
          "text": [
            "안녕하세요\n",
            "안녕하세요\n",
            "안녕하세요\n"
          ]
        }
      ]
    },
    {
      "cell_type": "code",
      "source": [
        "a = 10\n",
        "for num in range(1,5,2,):\n",
        "    a+=num\n",
        "print(a)"
      ],
      "metadata": {
        "colab": {
          "base_uri": "https://localhost:8080/"
        },
        "id": "7yNSOdJD034O",
        "outputId": "8cec87a9-b09c-4aa9-c943-88bbd92c1ebe"
      },
      "execution_count": 10,
      "outputs": [
        {
          "output_type": "stream",
          "name": "stdout",
          "text": [
            "14\n"
          ]
        }
      ]
    },
    {
      "cell_type": "code",
      "source": [
        "for i in range(1,4,1):\n",
        "  print(i,'번쨰 학생의 성적처리')"
      ],
      "metadata": {
        "colab": {
          "base_uri": "https://localhost:8080/"
        },
        "id": "UoB0UfqL036_",
        "outputId": "330c51f9-66fc-4081-e810-251f30aa9b69"
      },
      "execution_count": 12,
      "outputs": [
        {
          "output_type": "stream",
          "name": "stdout",
          "text": [
            "1 번쨰 학생의 성적처리\n",
            "2 번쨰 학생의 성적처리\n",
            "3 번쨰 학생의 성적처리\n"
          ]
        }
      ]
    },
    {
      "cell_type": "code",
      "source": [
        "for i in range(1,21,1):\n",
        "    if(i%2==0):\n",
        "      print(i,end = ' ')"
      ],
      "metadata": {
        "colab": {
          "base_uri": "https://localhost:8080/"
        },
        "id": "WCHsGYG_039-",
        "outputId": "5386fff9-94da-4622-ecc3-6291543dd4a2"
      },
      "execution_count": 16,
      "outputs": [
        {
          "output_type": "stream",
          "name": "stdout",
          "text": [
            "2 4 6 8 10 12 14 16 18 20 "
          ]
        }
      ]
    },
    {
      "cell_type": "code",
      "source": [
        "a= 2\n",
        "for b in range(1,10,1):\n",
        "  c = a * b\n",
        "  print(f\"2 X\",b,'=',c)"
      ],
      "metadata": {
        "colab": {
          "base_uri": "https://localhost:8080/"
        },
        "id": "UXSbRp2K04Ah",
        "outputId": "ccad84aa-4cbb-4eac-9be6-c073079b0d2d"
      },
      "execution_count": 20,
      "outputs": [
        {
          "output_type": "stream",
          "name": "stdout",
          "text": [
            "2 X 1 = 2\n",
            "2 X 2 = 4\n",
            "2 X 3 = 6\n",
            "2 X 4 = 8\n",
            "2 X 5 = 10\n",
            "2 X 6 = 12\n",
            "2 X 7 = 14\n",
            "2 X 8 = 16\n",
            "2 X 9 = 18\n"
          ]
        }
      ]
    },
    {
      "cell_type": "code",
      "source": [
        "sum = 0\n",
        "for i in range(1,11,1):\n",
        "  sum = sum + i\n",
        "  print('i의 값:',i,'=>','합계 :',sum)"
      ],
      "metadata": {
        "colab": {
          "base_uri": "https://localhost:8080/"
        },
        "id": "TMt6bDr326iA",
        "outputId": "ddb41f92-2056-4754-d641-ed81ad0c00fb"
      },
      "execution_count": 24,
      "outputs": [
        {
          "output_type": "stream",
          "name": "stdout",
          "text": [
            "i의 값: 1 => 합계 : 1\n",
            "i의 값: 2 => 합계 : 3\n",
            "i의 값: 3 => 합계 : 6\n",
            "i의 값: 4 => 합계 : 10\n",
            "i의 값: 5 => 합계 : 15\n",
            "i의 값: 6 => 합계 : 21\n",
            "i의 값: 7 => 합계 : 28\n",
            "i의 값: 8 => 합계 : 36\n",
            "i의 값: 9 => 합계 : 45\n",
            "i의 값: 10 => 합계 : 55\n"
          ]
        }
      ]
    },
    {
      "cell_type": "markdown",
      "source": [
        "## Page19"
      ],
      "metadata": {
        "id": "7ZPljfrE4JCm"
      }
    },
    {
      "cell_type": "code",
      "source": [
        "sum = 0\n",
        "for i in range(1,101,1):\n",
        "  if (i%2==0):\n",
        "    sum += i\n",
        "print(\"1~100까지의 even_sum = \",sum)"
      ],
      "metadata": {
        "colab": {
          "base_uri": "https://localhost:8080/"
        },
        "id": "46rACfxD26ku",
        "outputId": "0e84190b-5a63-42f4-e5ad-632e949436b2"
      },
      "execution_count": 28,
      "outputs": [
        {
          "output_type": "stream",
          "name": "stdout",
          "text": [
            "1~100까지의 even_sum =  2550\n"
          ]
        }
      ]
    },
    {
      "cell_type": "code",
      "source": [
        "fact = 1\n",
        "for i in range(10,0,-1):\n",
        "  fact = fact * i\n",
        "print(\"10! = \",fact)"
      ],
      "metadata": {
        "colab": {
          "base_uri": "https://localhost:8080/"
        },
        "id": "vlJA_rh826nm",
        "outputId": "19fb9104-242e-4334-c712-73fe21b1ce65"
      },
      "execution_count": 29,
      "outputs": [
        {
          "output_type": "stream",
          "name": "stdout",
          "text": [
            "10! =  3628800\n"
          ]
        }
      ]
    },
    {
      "cell_type": "code",
      "source": [
        "a = 0\n",
        "for i in range(5,101,5):\n",
        "  print(i,end = ' ')\n",
        "  a += 1\n",
        "  if (a == 7):\n",
        "    a = 0\n",
        "    print('')"
      ],
      "metadata": {
        "colab": {
          "base_uri": "https://localhost:8080/"
        },
        "id": "vEzbVUxV26qO",
        "outputId": "2f78cc63-c3e8-46c4-844a-91a5acd9ec19"
      },
      "execution_count": 34,
      "outputs": [
        {
          "output_type": "stream",
          "name": "stdout",
          "text": [
            "5 10 15 20 25 30 35 \n",
            "40 45 50 55 60 65 70 \n",
            "75 80 85 90 95 100 "
          ]
        }
      ]
    },
    {
      "cell_type": "code",
      "source": [
        "n = int(input(\"정수를 입력하시오: \"))\n",
        "for i in range(1,n+1):\n",
        "  if (n % i == 0):\n",
        "    print(i,end = ' ')"
      ],
      "metadata": {
        "colab": {
          "base_uri": "https://localhost:8080/"
        },
        "id": "N227SVoV7EpI",
        "outputId": "97e57fd7-29cb-4b3f-f22b-c2070dbb65c3"
      },
      "execution_count": 38,
      "outputs": [
        {
          "output_type": "stream",
          "name": "stdout",
          "text": [
            "정수를 입력하시오: 4\n",
            "1 2 4 "
          ]
        }
      ]
    },
    {
      "cell_type": "code",
      "source": [
        "a = 0\n",
        "b = 1\n",
        "for i in range(1,21,1):\n",
        "  print(a,end=' ')\n",
        "  n = a + b\n",
        "  a = b\n",
        "  b = n"
      ],
      "metadata": {
        "colab": {
          "base_uri": "https://localhost:8080/"
        },
        "id": "MagUOZCl7Er2",
        "outputId": "6273fc26-9896-46f7-ef21-88d922b0e82f"
      },
      "execution_count": 44,
      "outputs": [
        {
          "output_type": "stream",
          "name": "stdout",
          "text": [
            "0 1 1 2 3 5 8 13 21 34 55 89 144 233 377 610 987 1597 2584 4181 "
          ]
        }
      ]
    },
    {
      "cell_type": "code",
      "source": [
        "for x in range(1,41,1):\n",
        "    if (x %10 == 0):\n",
        "      print('+',end = '')\n",
        "    else:\n",
        "      print('-',end = '')"
      ],
      "metadata": {
        "colab": {
          "base_uri": "https://localhost:8080/"
        },
        "id": "t__3bQU87Euu",
        "outputId": "88f9e793-ec79-4cfa-ee02-1c50aa81dd05"
      },
      "execution_count": 57,
      "outputs": [
        {
          "output_type": "stream",
          "name": "stdout",
          "text": [
            "---------+---------+---------+---------+"
          ]
        }
      ]
    },
    {
      "cell_type": "code",
      "source": [
        "x = 1\n",
        "while(x<41):\n",
        "  if(x % 10 == 0):\n",
        "      print('+',end = '')\n",
        "  else:\n",
        "      print('-',end = '')\n",
        "  x += 1\n",
        "    "
      ],
      "metadata": {
        "colab": {
          "base_uri": "https://localhost:8080/"
        },
        "id": "TkLRCT1o7Exu",
        "outputId": "1855e85a-7f9b-4ce1-81f8-efaf84cf9f9d"
      },
      "execution_count": 59,
      "outputs": [
        {
          "output_type": "stream",
          "name": "stdout",
          "text": [
            "---------+---------+---------+---------+"
          ]
        }
      ]
    },
    {
      "cell_type": "markdown",
      "source": [
        "## Page20"
      ],
      "metadata": {
        "id": "aYFhEKMaBj1n"
      }
    },
    {
      "cell_type": "code",
      "source": [
        "print('-'*50)\n",
        "print(\" 센치(cm) 인치(inch) 피트(ft) 야드(yd)\")\n",
        "print('-'*50)\n",
        "for cm in range (10,101,10):\n",
        "  inch = cm * 0.393701\n",
        "  ft = cm * 0.032808\n",
        "  yd = cm * 0.010936\n",
        "  print(\"%7d %8.1f %8.1f %8.1f\"%(cm,inch,ft,yd))\n",
        "print('-'*50)"
      ],
      "metadata": {
        "colab": {
          "base_uri": "https://localhost:8080/"
        },
        "id": "wx249_nK7E7G",
        "outputId": "8554323f-c828-4283-bafe-fc86231e655a"
      },
      "execution_count": 66,
      "outputs": [
        {
          "output_type": "stream",
          "name": "stdout",
          "text": [
            "--------------------------------------------------\n",
            " 센치(cm) 인치(inch) 피트(ft) 야드(yd)\n",
            "--------------------------------------------------\n",
            "     10      3.9      0.3      0.1\n",
            "     20      7.9      0.7      0.2\n",
            "     30     11.8      1.0      0.3\n",
            "     40     15.7      1.3      0.4\n",
            "     50     19.7      1.6      0.5\n",
            "     60     23.6      2.0      0.7\n",
            "     70     27.6      2.3      0.8\n",
            "     80     31.5      2.6      0.9\n",
            "     90     35.4      3.0      1.0\n",
            "    100     39.4      3.3      1.1\n",
            "--------------------------------------------------\n"
          ]
        }
      ]
    },
    {
      "cell_type": "code",
      "source": [
        "for i in range(1,1001):\n",
        "  print(i,end = '')\n",
        "  if i == 10:\n",
        "    break"
      ],
      "metadata": {
        "colab": {
          "base_uri": "https://localhost:8080/"
        },
        "id": "ShdByOeQDf02",
        "outputId": "ed595cdc-6d04-4130-b62f-2e4fe9f37cfd"
      },
      "execution_count": 67,
      "outputs": [
        {
          "output_type": "stream",
          "name": "stdout",
          "text": [
            "12345678910"
          ]
        }
      ]
    },
    {
      "cell_type": "code",
      "source": [
        "score = [92,86,68,120,56,72]\n",
        "for i in score:\n",
        "  if (i < 0 or i > 100):\n",
        "    continue\n",
        "  print(i)\n",
        "print(\"성적처리 끝\")"
      ],
      "metadata": {
        "colab": {
          "base_uri": "https://localhost:8080/"
        },
        "id": "huPouAzHDf3U",
        "outputId": "ced97889-abf5-496f-aae4-243f0d6511f9"
      },
      "execution_count": 80,
      "outputs": [
        {
          "output_type": "stream",
          "name": "stdout",
          "text": [
            "92\n",
            "86\n",
            "68\n",
            "56\n",
            "72\n",
            "성적처리 끝\n"
          ]
        }
      ]
    },
    {
      "cell_type": "code",
      "source": [
        "print(\"3+4 = ?\")\n",
        "while True:\n",
        "  a = int(input(\"정답을 입력하시오: \"))\n",
        "  if a == 7:\n",
        "    break\n",
        "print(\"참 잘했어요\")"
      ],
      "metadata": {
        "colab": {
          "base_uri": "https://localhost:8080/"
        },
        "id": "mSEqEZntDf58",
        "outputId": "89cef353-09a3-4775-98fb-422ac2553375"
      },
      "execution_count": 82,
      "outputs": [
        {
          "output_type": "stream",
          "name": "stdout",
          "text": [
            "3+4 = ?\n",
            "정답을 입력하시오: 7\n",
            "참 잘했어요\n"
          ]
        }
      ]
    },
    {
      "cell_type": "code",
      "source": [
        "while True:\n",
        "  light = input('신호등 색상 입력: ')\n",
        "  if light == 'green':\n",
        "    break\n",
        "print(\"길을 건너세요\")"
      ],
      "metadata": {
        "colab": {
          "base_uri": "https://localhost:8080/"
        },
        "id": "_s8wIqtjDf8c",
        "outputId": "588eeaa6-c79d-4668-ebe8-5c19dff40d3a"
      },
      "execution_count": 83,
      "outputs": [
        {
          "output_type": "stream",
          "name": "stdout",
          "text": [
            "신호등 색상 입력: yellow\n",
            "신호등 색상 입력: red\n",
            "신호등 색상 입력: green\n",
            "길을 건너세요\n"
          ]
        }
      ]
    },
    {
      "cell_type": "markdown",
      "source": [
        "## Page21"
      ],
      "metadata": {
        "id": "0BThVGQgHws9"
      }
    },
    {
      "cell_type": "code",
      "source": [
        "i = 1\n",
        "total = 0;\n",
        "while True:\n",
        "  total = total + i\n",
        "  if total > 50:\n",
        "    print(\"합이 50보다 커지는 수는 %d이고 합은 %d다.\"%(i,total))\n",
        "    break\n",
        "  i += 1"
      ],
      "metadata": {
        "colab": {
          "base_uri": "https://localhost:8080/"
        },
        "id": "r0jvX9uzDf-_",
        "outputId": "922e8f66-783e-429c-9202-b16211e07ae3"
      },
      "execution_count": 87,
      "outputs": [
        {
          "output_type": "stream",
          "name": "stdout",
          "text": [
            "합이 50보다 커지는 수는 10이고 합은 55다.\n"
          ]
        }
      ]
    },
    {
      "cell_type": "code",
      "source": [
        "dan  = 2\n",
        "while(dan < 10):\n",
        "  hang = 1\n",
        "  print(dan,'단')\n",
        "  while(hang < 10):\n",
        "    print(dan,'*',hang,'=',dan * hang)\n",
        "    hang += 1\n",
        "  dan +=1\n",
        "  print()"
      ],
      "metadata": {
        "colab": {
          "base_uri": "https://localhost:8080/"
        },
        "id": "6FMSc4xcIZQt",
        "outputId": "579868e9-03e9-4119-c7e6-171f90dcb839"
      },
      "execution_count": 91,
      "outputs": [
        {
          "output_type": "stream",
          "name": "stdout",
          "text": [
            "2 단\n",
            "2 * 1 = 2\n",
            "2 * 2 = 4\n",
            "2 * 3 = 6\n",
            "2 * 4 = 8\n",
            "2 * 5 = 10\n",
            "2 * 6 = 12\n",
            "2 * 7 = 14\n",
            "2 * 8 = 16\n",
            "2 * 9 = 18\n",
            "\n",
            "3 단\n",
            "3 * 1 = 3\n",
            "3 * 2 = 6\n",
            "3 * 3 = 9\n",
            "3 * 4 = 12\n",
            "3 * 5 = 15\n",
            "3 * 6 = 18\n",
            "3 * 7 = 21\n",
            "3 * 8 = 24\n",
            "3 * 9 = 27\n",
            "\n",
            "4 단\n",
            "4 * 1 = 4\n",
            "4 * 2 = 8\n",
            "4 * 3 = 12\n",
            "4 * 4 = 16\n",
            "4 * 5 = 20\n",
            "4 * 6 = 24\n",
            "4 * 7 = 28\n",
            "4 * 8 = 32\n",
            "4 * 9 = 36\n",
            "\n",
            "5 단\n",
            "5 * 1 = 5\n",
            "5 * 2 = 10\n",
            "5 * 3 = 15\n",
            "5 * 4 = 20\n",
            "5 * 5 = 25\n",
            "5 * 6 = 30\n",
            "5 * 7 = 35\n",
            "5 * 8 = 40\n",
            "5 * 9 = 45\n",
            "\n",
            "6 단\n",
            "6 * 1 = 6\n",
            "6 * 2 = 12\n",
            "6 * 3 = 18\n",
            "6 * 4 = 24\n",
            "6 * 5 = 30\n",
            "6 * 6 = 36\n",
            "6 * 7 = 42\n",
            "6 * 8 = 48\n",
            "6 * 9 = 54\n",
            "\n",
            "7 단\n",
            "7 * 1 = 7\n",
            "7 * 2 = 14\n",
            "7 * 3 = 21\n",
            "7 * 4 = 28\n",
            "7 * 5 = 35\n",
            "7 * 6 = 42\n",
            "7 * 7 = 49\n",
            "7 * 8 = 56\n",
            "7 * 9 = 63\n",
            "\n",
            "8 단\n",
            "8 * 1 = 8\n",
            "8 * 2 = 16\n",
            "8 * 3 = 24\n",
            "8 * 4 = 32\n",
            "8 * 5 = 40\n",
            "8 * 6 = 48\n",
            "8 * 7 = 56\n",
            "8 * 8 = 64\n",
            "8 * 9 = 72\n",
            "\n",
            "9 단\n",
            "9 * 1 = 9\n",
            "9 * 2 = 18\n",
            "9 * 3 = 27\n",
            "9 * 4 = 36\n",
            "9 * 5 = 45\n",
            "9 * 6 = 54\n",
            "9 * 7 = 63\n",
            "9 * 8 = 72\n",
            "9 * 9 = 81\n",
            "\n"
          ]
        }
      ]
    },
    {
      "cell_type": "code",
      "source": [
        "for y in range(1,6):\n",
        "  for x in range(1,y+1):\n",
        "    print(\"*\",end = '')\n",
        "  print()"
      ],
      "metadata": {
        "colab": {
          "base_uri": "https://localhost:8080/"
        },
        "id": "pbKSr_cgIZTM",
        "outputId": "c39f59d6-7194-4cf2-a419-c874dcda38fc"
      },
      "execution_count": 95,
      "outputs": [
        {
          "output_type": "stream",
          "name": "stdout",
          "text": [
            "*\n",
            "**\n",
            "***\n",
            "****\n",
            "*****\n"
          ]
        }
      ]
    },
    {
      "cell_type": "code",
      "source": [
        "for i in range(1,7):\n",
        "  for j in range(7):\n",
        "    if( i == 7) or (i + j == 6):\n",
        "        print('*',end = '')\n",
        "    else:\n",
        "        print(' ',end = '')\n",
        "  print()"
      ],
      "metadata": {
        "colab": {
          "base_uri": "https://localhost:8080/"
        },
        "id": "JtQ-_SZLIZVl",
        "outputId": "327d3670-6606-4a12-f0f3-b7fd9cc3d0cb"
      },
      "execution_count": 111,
      "outputs": [
        {
          "output_type": "stream",
          "name": "stdout",
          "text": [
            "     * \n",
            "    *  \n",
            "   *   \n",
            "  *    \n",
            " *     \n",
            "*      \n"
          ]
        }
      ]
    },
    {
      "cell_type": "code",
      "source": [],
      "metadata": {
        "id": "XKAg3qN7IZYE"
      },
      "execution_count": null,
      "outputs": []
    },
    {
      "cell_type": "code",
      "source": [],
      "metadata": {
        "id": "xDzrX-aiIZaG"
      },
      "execution_count": null,
      "outputs": []
    }
  ]
}