{
  "nbformat": 4,
  "nbformat_minor": 0,
  "metadata": {
    "colab": {
      "provenance": [],
      "authorship_tag": "ABX9TyMe6h42vapPBNlg9ARZI4Mu",
      "include_colab_link": true
    },
    "kernelspec": {
      "name": "python3",
      "display_name": "Python 3"
    },
    "language_info": {
      "name": "python"
    }
  },
  "cells": [
    {
      "cell_type": "markdown",
      "metadata": {
        "id": "view-in-github",
        "colab_type": "text"
      },
      "source": [
        "<a href=\"https://colab.research.google.com/github/sirocat/python/blob/main/%EC%88%98%ED%96%89%ED%8F%89%EA%B0%80_%EC%97%B0%EC%8A%B5.ipynb\" target=\"_parent\"><img src=\"https://colab.research.google.com/assets/colab-badge.svg\" alt=\"Open In Colab\"/></a>"
      ]
    },
    {
      "cell_type": "code",
      "execution_count": 2,
      "metadata": {
        "colab": {
          "base_uri": "https://localhost:8080/"
        },
        "id": "FnFWtLSmXhSK",
        "outputId": "5c7d280c-7f26-461e-8cd4-074f57c8ac9f"
      },
      "outputs": [
        {
          "output_type": "stream",
          "name": "stdout",
          "text": [
            "I said \"hello\"to yo\n",
            "Let's go.\n"
          ]
        }
      ],
      "source": [
        "print('I said \"hello\"to yo')\n",
        "print(\"Let's go.\")"
      ]
    },
    {
      "cell_type": "code",
      "source": [
        "i = int(input(\"삼각형의 밑변의 길이: \"))\n",
        "j = int(input(\"삼각형의 높이: \"))\n",
        "print(\"삼각형의 면적: \",i*j/2)"
      ],
      "metadata": {
        "colab": {
          "base_uri": "https://localhost:8080/"
        },
        "id": "0Rs1CwAtd1DH",
        "outputId": "befab3aa-3656-4924-9888-ce7186abc37c"
      },
      "execution_count": 3,
      "outputs": [
        {
          "output_type": "stream",
          "name": "stdout",
          "text": [
            "삼각형의 밑변의 길이: 10\n",
            "삼각형의 높이: 3\n",
            "삼각형의 면적:  15.0\n"
          ]
        }
      ]
    },
    {
      "cell_type": "code",
      "source": [
        "h = int(input(\"현재 시: \"))\n",
        "m = int(input(\"현재 분: \"))\n",
        "m = m + 20\n",
        "h = (h + m // 60) % 24\n",
        "m = m % 60\n",
        "print(\"20분 뒤에는 %d시 %d분 입니다.\" %(h, m))"
      ],
      "metadata": {
        "id": "-Vcyoq8kd1Fv"
      },
      "execution_count": null,
      "outputs": []
    },
    {
      "cell_type": "code",
      "source": [
        "i = int(input(\"숫자 입력: \"))\n",
        "if(i < 0):\n",
        "  i = i * -1\n",
        "print(i)"
      ],
      "metadata": {
        "colab": {
          "base_uri": "https://localhost:8080/"
        },
        "id": "kHYf-9lEd1Ib",
        "outputId": "59e1f37f-6a91-412a-a523-1245e921258e"
      },
      "execution_count": 5,
      "outputs": [
        {
          "output_type": "stream",
          "name": "stdout",
          "text": [
            "숫자 입력: -20\n",
            "20\n"
          ]
        }
      ]
    },
    {
      "cell_type": "code",
      "source": [
        "a = str(input(\"아이디를 입력하세요: \"))\n",
        "b = int(input(\"회원 레벨을 입력하세요: \"))\n",
        "if(a == 'admin'or b == 1):\n",
        "  print(\"관리자입니다.\")\n",
        "else:\n",
        "  print(\"관리자가 아닙니다.\")"
      ],
      "metadata": {
        "colab": {
          "base_uri": "https://localhost:8080/"
        },
        "id": "fOsJiFMmd1Kx",
        "outputId": "f8e3835c-ecfb-452a-93ef-0d39fed5f54f"
      },
      "execution_count": 7,
      "outputs": [
        {
          "output_type": "stream",
          "name": "stdout",
          "text": [
            "아이디를 입력하세요: admin\n",
            "회원 레벨을 입력하세요: 1\n",
            "관리자입니다.\n"
          ]
        }
      ]
    },
    {
      "cell_type": "code",
      "source": [
        "a = int(input(\"첫 번째 수\"))\n",
        "b = int(input(\"두 번째 수\"))\n",
        "c = int(input(\"세 번째 수\"))\n",
        "max = 0\n",
        "if(a > b and a > c):\n",
        "  max = a\n",
        "elif(b > a and b > c):\n",
        "  max = b\n",
        "else:\n",
        "  max = c\n",
        "print(\"가장 큰 수는\",max,\"입니다.\")"
      ],
      "metadata": {
        "colab": {
          "base_uri": "https://localhost:8080/"
        },
        "id": "nl4OXfzbd1M-",
        "outputId": "e80407fc-c375-4483-a2fa-48336f102f58"
      },
      "execution_count": 9,
      "outputs": [
        {
          "output_type": "stream",
          "name": "stdout",
          "text": [
            "첫 번째 수10\n",
            "두 번째 수20\n",
            "세 번째 수30\n",
            "가장 큰 수는 30 입니다.\n"
          ]
        }
      ]
    },
    {
      "cell_type": "code",
      "source": [
        "i = int(input(\"나이 입력: \"))\n",
        "if(i <=7):\n",
        "  print(\"어린이\")\n",
        "elif(i <=13):\n",
        "  print(\"초등학생\")\n",
        "elif(i <=16):\n",
        "  print(\"중학생\")\n",
        "elif(i <=19):\n",
        "  print(\"고등학생\")\n",
        "else:\n",
        "  print(\"성인\")"
      ],
      "metadata": {
        "colab": {
          "base_uri": "https://localhost:8080/"
        },
        "id": "NKDG3XZqhfRS",
        "outputId": "863ef064-00f3-4fcb-85a3-5a7536b90c4e"
      },
      "execution_count": 10,
      "outputs": [
        {
          "output_type": "stream",
          "name": "stdout",
          "text": [
            "나이 입력: 17\n",
            "고등학생\n"
          ]
        }
      ]
    },
    {
      "cell_type": "code",
      "source": [
        "i = int(input(\"점수 입력: \"))\n",
        "if(i>=90):\n",
        "  print(\"A등급\")\n",
        "elif(i>=80):\n",
        "  print(\"B등급\")\n",
        "elif(i>=70):\n",
        "  print(\"C등급\")\n",
        "else:\n",
        "  print(\"F등급\")"
      ],
      "metadata": {
        "colab": {
          "base_uri": "https://localhost:8080/"
        },
        "id": "dtaqHkPvhfTu",
        "outputId": "68269111-50b3-4cd8-f563-99cbb4c10667"
      },
      "execution_count": 12,
      "outputs": [
        {
          "output_type": "stream",
          "name": "stdout",
          "text": [
            "점수수 입력: 90\n",
            "A등급\n"
          ]
        }
      ]
    },
    {
      "cell_type": "code",
      "source": [
        "i = int(input(\"숫자 입력: \"))\n",
        "if(i%3==0):\n",
        "  if(i%5==0):\n",
        "    print(\"3과 5의 공배수\")\n",
        "  else:\n",
        "    print(\"3의 배수\")\n",
        "else:\n",
        "  print(\"3의 배수 아님\")"
      ],
      "metadata": {
        "colab": {
          "base_uri": "https://localhost:8080/"
        },
        "id": "3knLhqp6hfWT",
        "outputId": "27cead12-8645-4406-c261-a7995701c3f3"
      },
      "execution_count": 14,
      "outputs": [
        {
          "output_type": "stream",
          "name": "stdout",
          "text": [
            "숫자 입력: 6\n",
            "3의 배수\n"
          ]
        }
      ]
    },
    {
      "cell_type": "code",
      "source": [
        "i = 1\n",
        "while(i<=20):\n",
        "  if i%2 != 0:\n",
        "    print(i,end = ' ')\n",
        "  i += 1"
      ],
      "metadata": {
        "colab": {
          "base_uri": "https://localhost:8080/"
        },
        "id": "myfbGX-khfY5",
        "outputId": "3662519a-bb40-440a-ea21-6a5768867f25"
      },
      "execution_count": 18,
      "outputs": [
        {
          "output_type": "stream",
          "name": "stdout",
          "text": [
            "1 3 5 7 9 11 13 15 17 19 "
          ]
        }
      ]
    },
    {
      "cell_type": "code",
      "source": [
        "i = 1;\n",
        "sum = 0;\n",
        "while(i <= 10):\n",
        "  sum = sum + i\n",
        "  print(\"num의 값: \",i,\"==> 합계 : \",sum)\n",
        "  i += 1"
      ],
      "metadata": {
        "colab": {
          "base_uri": "https://localhost:8080/"
        },
        "id": "QiZbNmP_hfbR",
        "outputId": "0e59b02d-3a60-4884-dfd3-d07284c18f8f"
      },
      "execution_count": 19,
      "outputs": [
        {
          "output_type": "stream",
          "name": "stdout",
          "text": [
            "num의 값:  1 ==> 합계 :  1\n",
            "num의 값:  2 ==> 합계 :  3\n",
            "num의 값:  3 ==> 합계 :  6\n",
            "num의 값:  4 ==> 합계 :  10\n",
            "num의 값:  5 ==> 합계 :  15\n",
            "num의 값:  6 ==> 합계 :  21\n",
            "num의 값:  7 ==> 합계 :  28\n",
            "num의 값:  8 ==> 합계 :  36\n",
            "num의 값:  9 ==> 합계 :  45\n",
            "num의 값:  10 ==> 합계 :  55\n"
          ]
        }
      ]
    },
    {
      "cell_type": "code",
      "source": [
        "n = int(input(\"숫자 입력: \"))\n",
        "fact = 1\n",
        "num = n\n",
        "while num > 0:\n",
        " fact *= num\n",
        " num -=1\n",
        "print(\"%d! = %d\" %(n, fact))"
      ],
      "metadata": {
        "colab": {
          "base_uri": "https://localhost:8080/"
        },
        "id": "iWj8fM7Xhfdj",
        "outputId": "3674e80a-9c61-4f3a-cd36-04142b2e1520"
      },
      "execution_count": 20,
      "outputs": [
        {
          "output_type": "stream",
          "name": "stdout",
          "text": [
            "숫자 입력: 10\n",
            "10! = 3628800\n"
          ]
        }
      ]
    },
    {
      "cell_type": "code",
      "source": [
        "import random\n",
        "cnt = 0\n",
        "guess = 0\n",
        "answer = random.randint(1,100)\n",
        "print(\"정답: \",answer)\n",
        "print(\"1부터 100사이의 숫자를 맞히기\")\n",
        "while answer != guess:\n",
        "  guess = int(input(\"숫자를 맞혀 보세요: \"))\n",
        "  if guess < answer:\n",
        "    print(\"낮음\")\n",
        "  else:\n",
        "    print('높음')\n",
        "  cnt += 1\n",
        "print(\"축하합니다. 시도횟수 %d\"%(cnt))"
      ],
      "metadata": {
        "colab": {
          "base_uri": "https://localhost:8080/"
        },
        "id": "XpHGUAUdm4rg",
        "outputId": "a1e777d8-6624-4d9d-e012-1fa92c667b52"
      },
      "execution_count": 22,
      "outputs": [
        {
          "output_type": "stream",
          "name": "stdout",
          "text": [
            "정답:  49\n",
            "1부터 100사이의 숫자를 맞히기\n",
            "숫자를 맞혀 보세요: 50\n",
            "높음\n",
            "숫자를 맞혀 보세요: 49\n",
            "높음\n",
            "축하합니다. 시도횟수 2\n"
          ]
        }
      ]
    },
    {
      "cell_type": "code",
      "source": [
        "i = 10\n",
        "while(i <= 50):\n",
        "  if(i%3 != 0):\n",
        "    print(i,end = ' ')\n",
        "  i += 1"
      ],
      "metadata": {
        "colab": {
          "base_uri": "https://localhost:8080/"
        },
        "id": "1D_SQ2eTm4uj",
        "outputId": "0710eff4-68cd-4ad3-bb73-e213b3bc7855"
      },
      "execution_count": 23,
      "outputs": [
        {
          "output_type": "stream",
          "name": "stdout",
          "text": [
            "10 11 13 14 16 17 19 20 22 23 25 26 28 29 31 32 34 35 37 38 40 41 43 44 46 47 49 50 "
          ]
        }
      ]
    },
    {
      "cell_type": "code",
      "source": [
        "import random\n",
        "again = 'y'\n",
        "print(\"주사위 게임을 시작합니다.\")\n",
        "while again == 'y':\n",
        "  print(\"주사위를 던졌습니다.\")\n",
        "  me = random.randint(1,6)\n",
        "  you = random.randint(1,6)\n",
        "  print(\"나: \",me)\n",
        "  print(\"당신: \",you)\n",
        "  if(me > you):\n",
        "    print(\"나의 승리\")\n",
        "  elif(me == you):\n",
        "    print(\"무승부\")\n",
        "  else:\n",
        "    print(\"당신의 승리\")\n",
        "  again = input(\"계속하려면 Y를 입력하세요\")"
      ],
      "metadata": {
        "colab": {
          "base_uri": "https://localhost:8080/"
        },
        "id": "KBTHrkepm4xb",
        "outputId": "9eafbadd-d8fe-4eed-f191-f43c72ed722b"
      },
      "execution_count": 28,
      "outputs": [
        {
          "name": "stdout",
          "output_type": "stream",
          "text": [
            "주사위 게임을 시작합니다.\n",
            "주사위를 던졌습니다.\n",
            "나:  3\n",
            "당신:  4\n",
            "당신의 승리\n",
            "계속하려면 Y를 입력하세요y\n",
            "주사위를 던졌습니다.\n",
            "나:  3\n",
            "당신:  2\n",
            "나의 승리\n",
            "계속하려면 Y를 입력하세요y\n",
            "주사위를 던졌습니다.\n",
            "나:  2\n",
            "당신:  1\n",
            "나의 승리\n",
            "계속하려면 Y를 입력하세요n\n"
          ]
        }
      ]
    },
    {
      "cell_type": "code",
      "source": [
        "i = int(input(\"숫자 입력: \"))\n",
        "while i != 0:\n",
        "  print(i%10,end='')\n",
        "  i = i // 10"
      ],
      "metadata": {
        "colab": {
          "base_uri": "https://localhost:8080/"
        },
        "id": "GMy65rVKm40D",
        "outputId": "cbd29d52-2f28-42ba-ed6f-ec50c7b46131"
      },
      "execution_count": 30,
      "outputs": [
        {
          "output_type": "stream",
          "name": "stdout",
          "text": [
            "숫자 입력: 10393\n",
            "39301"
          ]
        }
      ]
    },
    {
      "cell_type": "code",
      "source": [
        "a = 2\n",
        "for i in range(1,10):\n",
        "  print(a,\"*\",i,\"=\",a*i)"
      ],
      "metadata": {
        "colab": {
          "base_uri": "https://localhost:8080/"
        },
        "id": "HFCUJ5bvr8tG",
        "outputId": "835e9915-c360-406c-b98f-2b1e6e70d9f9"
      },
      "execution_count": 32,
      "outputs": [
        {
          "output_type": "stream",
          "name": "stdout",
          "text": [
            "2 * 1 = 2\n",
            "2 * 2 = 4\n",
            "2 * 3 = 6\n",
            "2 * 4 = 8\n",
            "2 * 5 = 10\n",
            "2 * 6 = 12\n",
            "2 * 7 = 14\n",
            "2 * 8 = 16\n",
            "2 * 9 = 18\n"
          ]
        }
      ]
    },
    {
      "cell_type": "code",
      "source": [
        "a = 2\n",
        "for i in range(9,0,-1):\n",
        "  print(a,\"*\",i,\"=\",a*i)"
      ],
      "metadata": {
        "colab": {
          "base_uri": "https://localhost:8080/"
        },
        "id": "l5y1Cwbyr8v9",
        "outputId": "187ce414-0976-4207-83b2-1ae7d2914f0b"
      },
      "execution_count": 36,
      "outputs": [
        {
          "output_type": "stream",
          "name": "stdout",
          "text": [
            "2 * 9 = 18\n",
            "2 * 8 = 16\n",
            "2 * 7 = 14\n",
            "2 * 6 = 12\n",
            "2 * 5 = 10\n",
            "2 * 4 = 8\n",
            "2 * 3 = 6\n",
            "2 * 2 = 4\n",
            "2 * 1 = 2\n"
          ]
        }
      ]
    },
    {
      "cell_type": "code",
      "source": [
        "max = 0;\n",
        "a = 0;\n",
        "b = 0;\n",
        "for i in range(1,100):\n",
        "  j = 100 - i\n",
        "  current = i * j\n",
        "  if max < current:\n",
        "    max = current\n",
        "    a = i\n",
        "    b = j\n",
        "print(\"최대가 되는 경우 :\",a,\"*\",b,\"=\",max)"
      ],
      "metadata": {
        "colab": {
          "base_uri": "https://localhost:8080/"
        },
        "id": "Tm9-giYoshS4",
        "outputId": "0d4344b5-dfe5-40bf-a7fc-c8a7175dd78e"
      },
      "execution_count": 38,
      "outputs": [
        {
          "output_type": "stream",
          "name": "stdout",
          "text": [
            "최대가 되는 경우 : 50 * 50 = 2500\n"
          ]
        }
      ]
    },
    {
      "cell_type": "code",
      "source": [
        "a = int(input(\"정수를 입력하세요: \"))\n",
        "for i in range(1,a+1):\n",
        "  if a % i ==0:\n",
        "    print(i,end=' ')"
      ],
      "metadata": {
        "colab": {
          "base_uri": "https://localhost:8080/"
        },
        "id": "kR1Q16jFshVp",
        "outputId": "364f32ef-e568-4c7d-b378-2f0bdc008f5a"
      },
      "execution_count": 42,
      "outputs": [
        {
          "output_type": "stream",
          "name": "stdout",
          "text": [
            "정수를 입력하세요: 6\n",
            "1236"
          ]
        }
      ]
    },
    {
      "cell_type": "code",
      "source": [
        "a = int(input(\"입력할 숫자 개수: \"))\n",
        "cnt = 1;\n",
        "max = 0\n",
        "for i in range(1,a+1):\n",
        "  b = int(input(\"숫자 입력: \"))\n",
        "  if b > max:\n",
        "    max = b\n",
        "    cnt +=1\n",
        "print(\"가장 큰 수는\",cnt,\"번째 수 입니다.\")"
      ],
      "metadata": {
        "colab": {
          "base_uri": "https://localhost:8080/"
        },
        "id": "rysMwoz8shYU",
        "outputId": "9ba543fa-6327-4897-de95-95d7420ba281"
      },
      "execution_count": 46,
      "outputs": [
        {
          "output_type": "stream",
          "name": "stdout",
          "text": [
            "입력할 숫자 개수: 5\n",
            "숫자 입력: 20\n",
            "숫자 입력: 8\n",
            "숫자 입력: 123\n",
            "숫자 입력: 45\n",
            "숫자 입력: 11\n",
            "가장 큰 수는 3 번째 수 입니다.\n"
          ]
        }
      ]
    },
    {
      "cell_type": "code",
      "source": [
        "cnt = 0\n",
        "for i in range(1,101):\n",
        "  if i % 4 == 0:\n",
        "    print(i,end=' ')\n",
        "    cnt += 1\n",
        "  if cnt % 7 == 0:\n",
        "    print()"
      ],
      "metadata": {
        "colab": {
          "base_uri": "https://localhost:8080/"
        },
        "id": "zF8oUbRouYP_",
        "outputId": "a5281d37-362d-4862-a6ef-a1085303c7d6"
      },
      "execution_count": 51,
      "outputs": [
        {
          "output_type": "stream",
          "name": "stdout",
          "text": [
            "\n",
            "\n",
            "\n",
            "4 8 12 16 20 24 28 \n",
            "\n",
            "\n",
            "\n",
            "32 36 40 44 48 52 56 \n",
            "\n",
            "\n",
            "\n",
            "60 64 68 72 76 80 84 \n",
            "\n",
            "\n",
            "\n",
            "88 92 96 100 "
          ]
        }
      ]
    },
    {
      "cell_type": "code",
      "source": [
        "n = int(input(\"숫자 입력: \"))\n",
        "count = 0\n",
        "for i in range(1, n+1):\n",
        " if i % 10 == 1:\n",
        "  count += 1\n",
        "print(\"일의 자리가 1인 수는 %d개\" %(count))"
      ],
      "metadata": {
        "colab": {
          "base_uri": "https://localhost:8080/"
        },
        "id": "HBCaQvOTuYTW",
        "outputId": "a807a487-b07d-47cc-a43b-a1a0168a7db5"
      },
      "execution_count": 56,
      "outputs": [
        {
          "output_type": "stream",
          "name": "stdout",
          "text": [
            "숫자 입력: 51\n",
            "일의 자리가 1인 수는 6개\n"
          ]
        }
      ]
    },
    {
      "cell_type": "code",
      "source": [
        "print(\"3+4 = ?\")\n",
        "while True:\n",
        "  a = int(input(\"정답을 입력하시오: \"))\n",
        "  if a == 7:\n",
        "    break;\n",
        "print(\"참 잘했어요!\")"
      ],
      "metadata": {
        "colab": {
          "base_uri": "https://localhost:8080/"
        },
        "id": "-TZQ8T9xuYWc",
        "outputId": "f85295a4-7b71-4dd3-b6a7-1ad777a7505c"
      },
      "execution_count": 57,
      "outputs": [
        {
          "output_type": "stream",
          "name": "stdout",
          "text": [
            "3+4 = ?\n",
            "정답을 입력하시오: 5\n",
            "정답을 입력하시오: 3\n",
            "정답을 입력하시오: 10\n",
            "정답을 입력하시오: 7\n",
            "참 잘했어요!\n"
          ]
        }
      ]
    }
  ]
}