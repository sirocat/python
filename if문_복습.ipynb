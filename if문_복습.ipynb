{
  "nbformat": 4,
  "nbformat_minor": 0,
  "metadata": {
    "colab": {
      "provenance": [],
      "authorship_tag": "ABX9TyO6opM5WqhJGiyomrc6RoFt",
      "include_colab_link": true
    },
    "kernelspec": {
      "name": "python3",
      "display_name": "Python 3"
    },
    "language_info": {
      "name": "python"
    }
  },
  "cells": [
    {
      "cell_type": "markdown",
      "metadata": {
        "id": "view-in-github",
        "colab_type": "text"
      },
      "source": [
        "<a href=\"https://colab.research.google.com/github/sirocat/python/blob/main/if%EB%AC%B8_%EB%B3%B5%EC%8A%B5.ipynb\" target=\"_parent\"><img src=\"https://colab.research.google.com/assets/colab-badge.svg\" alt=\"Open In Colab\"/></a>"
      ]
    },
    {
      "cell_type": "markdown",
      "source": [
        "## Page1"
      ],
      "metadata": {
        "id": "IykSH0g-yrpl"
      }
    },
    {
      "cell_type": "code",
      "source": [
        "import datetime\n",
        "\n",
        "now = datetime.datetime.now()\n",
        "print(now)\n",
        "print(now.year)\n",
        "print(now.month)\n",
        "print(now.day)\n",
        "print(now.hour)\n",
        "print(now.minute)\n",
        "print(now.second)"
      ],
      "metadata": {
        "colab": {
          "base_uri": "https://localhost:8080/"
        },
        "id": "lDKmT2LCyw2V",
        "outputId": "6848a831-b072-4ec2-c7eb-b8340cc32f6b"
      },
      "execution_count": 2,
      "outputs": [
        {
          "output_type": "stream",
          "name": "stdout",
          "text": [
            "2023-03-23 00:13:34.464791\n",
            "2023\n",
            "3\n",
            "23\n",
            "0\n",
            "13\n",
            "34\n"
          ]
        }
      ]
    },
    {
      "cell_type": "code",
      "source": [
        "import datetime\n",
        "now = datetime.datetime.now()\n",
        "if now.hour < 13:\n",
        "  print(\"현재 시간은\",now.hour,\"시\",now.minute,\"분 으로 오전입니다\")\n",
        "else :\n",
        "  print(\"현재 시간은\",now.hour,\"시\",now.minute,\"분 으로 오후입니다\")"
      ],
      "metadata": {
        "id": "0H45Ys-Xyw-c",
        "colab": {
          "base_uri": "https://localhost:8080/"
        },
        "outputId": "e22125f1-da94-41a0-b517-701afc7ac531"
      },
      "execution_count": 3,
      "outputs": [
        {
          "output_type": "stream",
          "name": "stdout",
          "text": [
            "현재 시간은 0 시 17 분 으로 오전입니다\n"
          ]
        }
      ]
    },
    {
      "cell_type": "code",
      "source": [
        "import datetime\n",
        "now = datetime.datetime.now()\n",
        "if 3 <= now.month <= 5:\n",
        "  print(\"이번 달은\",now.month,\"월로 봄 입니다.\")\n",
        "elif 6 <= now.month <= 8:\n",
        "  print(\"이번 달은\",now.month,\"월로 여름 입니다.\")\n",
        "elif 9 <= now.month <= 11:\n",
        "  print(\"이번 달은\",now.month,\"월로 가을 입니다.\")\n",
        "else:\n",
        "  print(\"이번 달은\",now.month,\"월로 겨울 입니다.\")"
      ],
      "metadata": {
        "colab": {
          "base_uri": "https://localhost:8080/"
        },
        "id": "Vcq0h0MF0_HL",
        "outputId": "8abfdb5f-c6ab-438f-8dce-15f4b686455f"
      },
      "execution_count": 5,
      "outputs": [
        {
          "output_type": "stream",
          "name": "stdout",
          "text": [
            "이번 달은 3 월로 봄 입니다.\n"
          ]
        }
      ]
    },
    {
      "cell_type": "code",
      "source": [
        "import random\n",
        "print(random.random())\n",
        "print(random.randrange(1,7))\n",
        "print(random.randint(1,6))\n",
        "print(random.choice([10,20,30]))"
      ],
      "metadata": {
        "colab": {
          "base_uri": "https://localhost:8080/"
        },
        "id": "lFWAJg0r2OTy",
        "outputId": "2f30137e-c34e-418f-c302-db0d4cb2659d"
      },
      "execution_count": 12,
      "outputs": [
        {
          "output_type": "stream",
          "name": "stdout",
          "text": [
            "0.5761269154644658\n",
            "5\n",
            "6\n",
            "20\n"
          ]
        }
      ]
    },
    {
      "cell_type": "code",
      "source": [
        "import random\n",
        "a = random.randrange(1,10)\n",
        "print(\"좋은 아침 입니다. 지금 시각은\",a,'시 입니다.')\n",
        "b = random.randrange(1,3)\n",
        "if b == 1:\n",
        "  print(\"현재 날씨가 활창합니다.\")\n",
        "else :\n",
        "  print(\"현재 날씨가 활창하지 않습니다.\")\n",
        "if 5 < a < 9 and b == 1:\n",
        "  print(\"종달새가 웁니다.\")\n",
        "else:\n",
        "  print(\"종달새가 노래하지 않습니다.\")"
      ],
      "metadata": {
        "colab": {
          "base_uri": "https://localhost:8080/"
        },
        "id": "IBFcHtgZ2rJi",
        "outputId": "d399db33-fe8f-48d3-e688-374694857966"
      },
      "execution_count": 16,
      "outputs": [
        {
          "output_type": "stream",
          "name": "stdout",
          "text": [
            "좋은 아침 입니다. 지금 시각은 5 시 입니다.\n",
            "현재 날씨가 활창하지 않습니다.\n",
            "종달새가 노래하지 않습니다.\n"
          ]
        }
      ]
    }
  ]
}