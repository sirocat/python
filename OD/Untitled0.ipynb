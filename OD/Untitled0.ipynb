{
  "nbformat": 4,
  "nbformat_minor": 0,
  "metadata": {
    "colab": {
      "provenance": [],
      "authorship_tag": "ABX9TyOwGyPe83NH7PfUrwHAV3+3",
      "include_colab_link": true
    },
    "kernelspec": {
      "name": "python3",
      "display_name": "Python 3"
    },
    "language_info": {
      "name": "python"
    }
  },
  "cells": [
    {
      "cell_type": "markdown",
      "metadata": {
        "id": "view-in-github",
        "colab_type": "text"
      },
      "source": [
        "<a href=\"https://colab.research.google.com/github/sirocat/python/blob/main/Untitled0.ipynb\" target=\"_parent\"><img src=\"https://colab.research.google.com/assets/colab-badge.svg\" alt=\"Open In Colab\"/></a>"
      ]
    },
    {
      "cell_type": "code",
      "execution_count": null,
      "metadata": {
        "colab": {
          "base_uri": "https://localhost:8080/"
        },
        "id": "SUuXqlIQKNpt",
        "outputId": "0b0e9202-2128-4696-d197-dd301a32793a"
      },
      "outputs": [
        {
          "output_type": "stream",
          "name": "stdout",
          "text": [
            "숫자입력하시오: 5\n",
            "숫자입력하시오: 22\n",
            "숫자입력하시오: -5\n",
            "숫자입력하시오: 202\n",
            "숫자입력하시오: 25\n",
            "[-5, 5, 22, 25, 202]\n"
          ]
        }
      ],
      "source": [
        "#28\n",
        "nums = []\n",
        "for i in range(5):\n",
        "  num= int(input(\"숫자입력하시오: \"))\n",
        "  nums.append(num)\n",
        "nums.sort()\n",
        "print(nums)"
      ]
    },
    {
      "cell_type": "code",
      "source": [
        "emails = [[\"kim\",\"naver.com\"],[\"hwang\",\"hanmail.net\"],[\"lee\",\"korea.com\"],[\"choi\",\"gamil.com\"]]\n",
        "email_new = []\n",
        "for email in emails:\n",
        "  email_new.append(eamil[0]+\"@\"+email[1])\n",
        "print(email_new)\n",
        "\n",
        " "
      ],
      "metadata": {
        "colab": {
          "base_uri": "https://localhost:8080/"
        },
        "id": "MtCLAsVqNqDv",
        "outputId": "0001c079-57df-46fb-db50-384efc315191"
      },
      "execution_count": 21,
      "outputs": [
        {
          "output_type": "stream",
          "name": "stdout",
          "text": [
            "['kim@naver.com', 'kim@hanmail.net', 'kim@korea.com', 'kim@gamil.com']\n"
          ]
        }
      ]
    },
    {
      "cell_type": "code",
      "source": [
        "fruts = ['apple','orange','banana']\n",
        "for i in range(3):\n",
        "  print(fruts[i])"
      ],
      "metadata": {
        "colab": {
          "base_uri": "https://localhost:8080/"
        },
        "id": "HU2THfCAXCym",
        "outputId": "bf02c340-8d6a-42bc-85df-6f6f4dc5b21f"
      },
      "execution_count": 22,
      "outputs": [
        {
          "output_type": "stream",
          "name": "stdout",
          "text": [
            "apple\n",
            "orange\n",
            "banana\n"
          ]
        }
      ]
    },
    {
      "cell_type": "code",
      "source": [
        "s = \"Hello\"\n",
        "for i in s:\n",
        "  print(i)"
      ],
      "metadata": {
        "colab": {
          "base_uri": "https://localhost:8080/"
        },
        "id": "cq7tf8IaXaSR",
        "outputId": "4523500c-9584-49a1-94d6-1c08542baa02"
      },
      "execution_count": 23,
      "outputs": [
        {
          "output_type": "stream",
          "name": "stdout",
          "text": [
            "H\n",
            "e\n",
            "l\n",
            "l\n",
            "o\n"
          ]
        }
      ]
    },
    {
      "cell_type": "markdown",
      "source": [
        "## Page26"
      ],
      "metadata": {
        "id": "JNHa1A8CXgDJ"
      }
    },
    {
      "cell_type": "code",
      "source": [
        "colors = ['빨간색','파란색','노란색','초록색']\n",
        "colors.insert(3,'검정색')\n",
        "for i in range(5):\n",
        "  print(\"나는 %s을 좋아한다\"%colors[i])"
      ],
      "metadata": {
        "colab": {
          "base_uri": "https://localhost:8080/"
        },
        "id": "_pjFHRQtXhzq",
        "outputId": "eddfee9f-2b0b-40fa-902d-d540e1ca29db"
      },
      "execution_count": 26,
      "outputs": [
        {
          "output_type": "stream",
          "name": "stdout",
          "text": [
            "나는 빨간색을 좋아한다\n",
            "나는 파란색을 좋아한다\n",
            "나는 노란색을 좋아한다\n",
            "나는 검정색을 좋아한다\n",
            "나는 초록색을 좋아한다\n"
          ]
        }
      ]
    },
    {
      "cell_type": "code",
      "source": [
        "numbers = [7,9,15,18,30,-3,7,12,-16,-12]\n",
        "sum = 0\n",
        "for number in range(10):\n",
        "  sum = sum + int(numbers[number])\n",
        "print(\"합계: %s\"%sum)"
      ],
      "metadata": {
        "colab": {
          "base_uri": "https://localhost:8080/"
        },
        "id": "6-zPDAEGXh4r",
        "outputId": "3174b903-a462-463b-fb1e-29ebab9c90f2"
      },
      "execution_count": 31,
      "outputs": [
        {
          "output_type": "stream",
          "name": "stdout",
          "text": [
            "67\n"
          ]
        }
      ]
    },
    {
      "cell_type": "code",
      "source": [
        "score = [1,3,5,7,9,11,13]\n",
        "cnt = 0\n",
        "for i in range(7):\n",
        "  if score[i] < 10:\n",
        "    print(score[i],end = \" \")\n",
        "    cnt += 1\n",
        "print()\n",
        "print(\"10보다 작은 수의 개수: %s\"%cnt)"
      ],
      "metadata": {
        "colab": {
          "base_uri": "https://localhost:8080/"
        },
        "id": "3R4K23MaZzS5",
        "outputId": "f4053152-4cf7-40e3-9492-e3c01b9c0e78"
      },
      "execution_count": 35,
      "outputs": [
        {
          "output_type": "stream",
          "name": "stdout",
          "text": [
            "1 3 5 7 9 \n",
            "10보다 작은 수의 개수: 5\n"
          ]
        }
      ]
    },
    {
      "cell_type": "code",
      "source": [
        "questions = [\"tr_in\",\"b_s\",\"_axi\",\"air_lane\"]\n",
        "answer = ['a','u','t','p']\n",
        "count = 0\n",
        "for i in range(4):\n",
        "  q = input('%s에서 밑줄(_)안에 들어갈 알파벳은?'%questions[i])\n",
        "  if q == answer[i]:\n",
        "    print(\"정답입니다!\")\n",
        "    count += 1\n",
        "  else:\n",
        "    print(\"틀렸습니다!\")\n",
        "print(\"당신의 점수는 %s/4 입니다\"%count)"
      ],
      "metadata": {
        "colab": {
          "base_uri": "https://localhost:8080/"
        },
        "id": "rDw44bc9Y4tj",
        "outputId": "d1538756-dec8-4c75-9053-faeaef0bfea6"
      },
      "execution_count": 37,
      "outputs": [
        {
          "output_type": "stream",
          "name": "stdout",
          "text": [
            "tr_in에서 밑줄(_)안에 들어갈 알파벳은?a\n",
            "정답입니다!\n",
            "b_s에서 밑줄(_)안에 들어갈 알파벳은?i\n",
            "틀렸습니다!\n",
            "_axi에서 밑줄(_)안에 들어갈 알파벳은?t\n",
            "정답입니다!\n",
            "air_lane에서 밑줄(_)안에 들어갈 알파벳은?p\n",
            "정답입니다!\n",
            "당신의 점수는 3/4 입니다\n"
          ]
        }
      ]
    },
    {
      "cell_type": "code",
      "source": [
        "scores = []\n",
        "sum = 0\n",
        "for i in range(5):\n",
        "    score = int(input(\"성적을 입력하세요: \"))  \n",
        "    scores.append(score) \n",
        "    sum = sum + score\n",
        "\n",
        "average = sum / len(scores)\n",
        "\n",
        "print(\"총점:\", sum)\n",
        "print(\"평균:\", average)\n"
      ],
      "metadata": {
        "colab": {
          "base_uri": "https://localhost:8080/"
        },
        "id": "TICXCwNBY4wF",
        "outputId": "0abe25eb-85b5-4c6b-981f-777bcf95b3fd"
      },
      "execution_count": 48,
      "outputs": [
        {
          "output_type": "stream",
          "name": "stdout",
          "text": [
            "성적을 입력하세요: 59\n",
            "성적을 입력하세요: 66\n",
            "성적을 입력하세요: 76\n",
            "성적을 입력하세요: 2\n",
            "성적을 입력하세요: 79\n",
            "총점: 282\n",
            "평균: 56.4\n"
          ]
        }
      ]
    },
    {
      "cell_type": "markdown",
      "source": [
        "## Page27"
      ],
      "metadata": {
        "id": "8A2p_PXZhY8v"
      }
    },
    {
      "cell_type": "code",
      "source": [],
      "metadata": {
        "id": "eHmZ7HaUheyG"
      },
      "execution_count": null,
      "outputs": []
    }
  ]
}