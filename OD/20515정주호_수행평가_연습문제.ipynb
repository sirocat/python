{
  "nbformat": 4,
  "nbformat_minor": 0,
  "metadata": {
    "colab": {
      "provenance": [],
      "authorship_tag": "ABX9TyMxlHoRjdYO0NZD6JrlEtzl",
      "include_colab_link": true
    },
    "kernelspec": {
      "name": "python3",
      "display_name": "Python 3"
    },
    "language_info": {
      "name": "python"
    }
  },
  "cells": [
    {
      "cell_type": "markdown",
      "metadata": {
        "id": "view-in-github",
        "colab_type": "text"
      },
      "source": [
        "<a href=\"https://colab.research.google.com/github/sirocat/python/blob/main/20515%EC%A0%95%EC%A3%BC%ED%98%B8_%EC%88%98%ED%96%89%ED%8F%89%EA%B0%80_%EC%97%B0%EC%8A%B5%EB%AC%B8%EC%A0%9C.ipynb\" target=\"_parent\"><img src=\"https://colab.research.google.com/assets/colab-badge.svg\" alt=\"Open In Colab\"/></a>"
      ]
    },
    {
      "cell_type": "code",
      "execution_count": 4,
      "metadata": {
        "colab": {
          "base_uri": "https://localhost:8080/"
        },
        "id": "objg4FFU4zNf",
        "outputId": "7d4f8fe5-f5d6-4170-e42b-9b85e73ccf4e"
      },
      "outputs": [
        {
          "output_type": "stream",
          "name": "stdout",
          "text": [
            "I said \"Hello\"to you\n",
            "Let's go.\n"
          ]
        }
      ],
      "source": [
        "#1\n",
        "print(\"I said \\\"Hello\\\"to you\")\n",
        "print(\"Let's go.\")"
      ]
    },
    {
      "cell_type": "code",
      "source": [
        "#2\n",
        "a = int(input(\"삼각형의 밑변의 길이 : \"))\n",
        "b =  int(input(\"삼각형의 높이 : \"))\n",
        "sum = a*b/2\n",
        "print(\"삼각형의 면적 : \",sum)"
      ],
      "metadata": {
        "colab": {
          "base_uri": "https://localhost:8080/"
        },
        "id": "imOhELjz8SWP",
        "outputId": "463899b5-1ba4-4459-cd23-fc2edbe417df"
      },
      "execution_count": 10,
      "outputs": [
        {
          "output_type": "stream",
          "name": "stdout",
          "text": [
            "삼각형의 밑변의 길이 : 10\n",
            "삼각형의 높이 : 3\n",
            "삼각형의 면적 :  15.0\n"
          ]
        }
      ]
    },
    {
      "cell_type": "code",
      "source": [
        "#3\n",
        "h = int(input(\"현재 시: \"))\n",
        "m = int(input(\"현재 분: \"))\n",
        "m = m+20\n",
        "h = (h+m//60)%24\n",
        "m = m%60\n",
        "print(\"20분 뒤에는 %d시 %d분 입니다.\"%(h,m))"
      ],
      "metadata": {
        "colab": {
          "base_uri": "https://localhost:8080/"
        },
        "id": "CNWk2Bqu9N5G",
        "outputId": "9a7290b3-e1f9-4306-9598-4fd2134fc2a0"
      },
      "execution_count": 19,
      "outputs": [
        {
          "output_type": "stream",
          "name": "stdout",
          "text": [
            "현재 시: 13\n",
            "현재 분: 55\n",
            "20분 뒤에는 14시 15분 입니다.\n"
          ]
        }
      ]
    },
    {
      "cell_type": "code",
      "source": [
        "#4\n",
        "a = int(input('숫자 입력: '))\n",
        "print(abs(a))"
      ],
      "metadata": {
        "colab": {
          "base_uri": "https://localhost:8080/"
        },
        "id": "nOAg4kNF9yLe",
        "outputId": "7109dd67-f821-4c11-ae42-f66aeb04fc4b"
      },
      "execution_count": 11,
      "outputs": [
        {
          "output_type": "stream",
          "name": "stdout",
          "text": [
            "숫자 입력: -20\n",
            "20\n"
          ]
        }
      ]
    },
    {
      "cell_type": "code",
      "source": [
        "#5\n",
        "a = str(input(\"아이디를 입력하세요 : \"))\n",
        "b = int(input(\"회원 레벨을 입력하세요: \"))\n",
        "if a == 'admin' or b == 1:\n",
        "  print(\"관리자 입니다.\")\n",
        "else:\n",
        "  print(\"관리자가 아닙니다\")"
      ],
      "metadata": {
        "id": "4-LF-z489yOe"
      },
      "execution_count": null,
      "outputs": []
    },
    {
      "cell_type": "code",
      "source": [
        "#6\n",
        "a = int(input(\"첫 번째 수 : \"))\n",
        "b = int(input(\"첫 번째 수 : \"))\n",
        "c = int(input(\"첫 번째 수 : \"))\n",
        "if a > b and a > c:\n",
        "  print(\"가장 큰 수는\",a,'입니다.')\n",
        "elif b > a and b > c:\n",
        "  print(\"가장 큰 수는\",b,'입니다.')\n",
        "else:\n",
        "  print(\"가장 큰 수는\",c,'입니다.')    "
      ],
      "metadata": {
        "id": "BNl0VG999yRO"
      },
      "execution_count": null,
      "outputs": []
    },
    {
      "cell_type": "code",
      "source": [
        "#7\n",
        "a = int(input(\"나이 입력 : \"))\n",
        "if (a <= 7):\n",
        "  print(\"어린이\")\n",
        "elif(a <= 13):\n",
        "  print(\"초등학생\")\n",
        "elif(a<=16):\n",
        "  print(\"중학생\")\n",
        "elif(a <= 19):\n",
        "  print(\"고등학생\")\n",
        "else:\n",
        "  print(\"성인\")"
      ],
      "metadata": {
        "colab": {
          "base_uri": "https://localhost:8080/"
        },
        "id": "n5ReQxjj9yT-",
        "outputId": "3ab3691d-ae41-47ea-939d-5acf32b34d9a"
      },
      "execution_count": 13,
      "outputs": [
        {
          "output_type": "stream",
          "name": "stdout",
          "text": [
            "나이 입력 : 8\n",
            "중학생\n"
          ]
        }
      ]
    },
    {
      "cell_type": "code",
      "source": [
        "#8\n",
        "a = int(input(\"점수를 입력하세요 : \"))\n",
        "if a >= 90:\n",
        "  print(\"A등급\")\n",
        "elif a >= 80:\n",
        "  print(\"B등급\")\n",
        "elif a >= 70:\n",
        "  print(\"C등급\")\n",
        "else:\n",
        "  print(\"F등급\")"
      ],
      "metadata": {
        "id": "k50RoUJY9yWf"
      },
      "execution_count": null,
      "outputs": []
    },
    {
      "cell_type": "code",
      "source": [
        "#9\n",
        "a = int(input(\"숫자 입력: \"))\n",
        "if(a % 3==0 and a % 5 ==0):\n",
        "  print(\"3과5의 공배수\")\n",
        "elif(a % 3 == 0 and a % 5 != 0):\n",
        "  print(\"3의 배수\")\n",
        "else:\n",
        "  print('3의 배수 아님')"
      ],
      "metadata": {
        "colab": {
          "base_uri": "https://localhost:8080/"
        },
        "id": "v1DLssQ6-792",
        "outputId": "9ae2ceb6-00d9-4c86-f9cf-1f654e24980b"
      },
      "execution_count": 17,
      "outputs": [
        {
          "output_type": "stream",
          "name": "stdout",
          "text": [
            "숫자 입력: 10\n",
            "3의 배수 아님\n"
          ]
        }
      ]
    },
    {
      "cell_type": "code",
      "source": [
        "#10\n",
        "for i in range(1,20,1):\n",
        "  if(i%2==0):\n",
        "    continue\n",
        "  print(i,end = \" \")"
      ],
      "metadata": {
        "colab": {
          "base_uri": "https://localhost:8080/"
        },
        "id": "KlB-j4qo-8Al",
        "outputId": "cb80b7ab-99df-4278-9091-f120752a38f0"
      },
      "execution_count": 23,
      "outputs": [
        {
          "output_type": "stream",
          "name": "stdout",
          "text": [
            "1 3 5 7 9 11 13 15 17 19 "
          ]
        }
      ]
    },
    {
      "cell_type": "code",
      "source": [
        "#11\n",
        "num = 0\n",
        "for i in range(1,11,1):\n",
        "  num += i\n",
        "  print(\"num의 값 :\",i,\"==> 합계 : \",num)"
      ],
      "metadata": {
        "colab": {
          "base_uri": "https://localhost:8080/"
        },
        "id": "JQfIEemU-8Dd",
        "outputId": "5ab52c1e-e02d-4657-a23e-442c023c6450"
      },
      "execution_count": 26,
      "outputs": [
        {
          "output_type": "stream",
          "name": "stdout",
          "text": [
            "num의 값 : 1 ==> 합계 :  1\n",
            "num의 값 : 2 ==> 합계 :  3\n",
            "num의 값 : 3 ==> 합계 :  6\n",
            "num의 값 : 4 ==> 합계 :  10\n",
            "num의 값 : 5 ==> 합계 :  15\n",
            "num의 값 : 6 ==> 합계 :  21\n",
            "num의 값 : 7 ==> 합계 :  28\n",
            "num의 값 : 8 ==> 합계 :  36\n",
            "num의 값 : 9 ==> 합계 :  45\n",
            "num의 값 : 10 ==> 합계 :  55\n"
          ]
        }
      ]
    },
    {
      "cell_type": "code",
      "source": [
        "#12\n",
        "i = int(input(\"숫자 입력: \"))\n",
        "fact = 1\n",
        "for i in range(i,0,-1):\n",
        "  fact = fact * i\n",
        "print(\"10! = \",fact)"
      ],
      "metadata": {
        "colab": {
          "base_uri": "https://localhost:8080/"
        },
        "id": "cfPUmDO9-8GV",
        "outputId": "3b292f4c-5726-4bbb-cb2e-7f3149743289"
      },
      "execution_count": 27,
      "outputs": [
        {
          "output_type": "stream",
          "name": "stdout",
          "text": [
            "숫자 입력: 10\n",
            "10! =  3628800\n"
          ]
        }
      ]
    },
    {
      "cell_type": "code",
      "source": [
        "#13\n",
        "import random\n",
        "cnt = 0\n",
        "guess = 0\n",
        "answer = random.randint(1,100)\n",
        "print('1부터 100사이의 숫자를 맞추기')\n",
        "while guess != answer:\n",
        "  guess = int(input(\"숫자를 맞춰 보세요:\"))\n",
        "  cnt += 1\n",
        "  if guess > answer:\n",
        "      print(\"높음\")\n",
        "  elif guess < answer:\n",
        "      print(\"낮음\")\n",
        "print(\"축하합니다.\",'시도횟수 = ',cnt)"
      ],
      "metadata": {
        "id": "vT5LkHe1Clvn"
      },
      "execution_count": null,
      "outputs": []
    },
    {
      "cell_type": "code",
      "source": [
        "#14\n",
        "for i in range(10,51,1):\n",
        "  if(i%3==0):\n",
        "    continue\n",
        "  print(i,end = \" \")\n",
        "  "
      ],
      "metadata": {
        "colab": {
          "base_uri": "https://localhost:8080/"
        },
        "id": "pnv5Nkt7ClyR",
        "outputId": "f658e457-5c7b-4e87-cddf-530a7c236967"
      },
      "execution_count": 28,
      "outputs": [
        {
          "output_type": "stream",
          "name": "stdout",
          "text": [
            "10 11 13 14 16 17 19 20 22 23 25 26 28 29 31 32 34 35 37 38 40 41 43 44 46 47 49 50 "
          ]
        }
      ]
    },
    {
      "cell_type": "code",
      "source": [
        "#15\n",
        "from IPython.core.completer import back_latex_name_matches\n",
        "import random\n",
        "print(\"주사위 게임을 시작합니다.\")\n",
        "c = 'y'\n",
        "while(c =='y'):\n",
        "  num_a = random.randrange(1,7)\n",
        "  print(\"주사위를 던졌습니다.\")\n",
        "  print(\"나 : %d \"%num_a)\n",
        "  num_b = random.randrange(1,7)\n",
        "  print(\"당신 %d \"%num_b)\n",
        "\n",
        "  if(num_a > num_b):\n",
        "      print(\"나의 승리\")\n",
        "  elif(num_a < num_b):\n",
        "      print(\"당신의 승리\")\n",
        "  else:\n",
        "      print(\"무승부\")\n",
        "  c = input(\"계속하려면 y를 입력하세요! : \")\n",
        "#  if(i == 'y'):\n",
        "#    c = 'y'\n",
        "#   else:\n",
        "#    c = 'a'\n"
      ],
      "metadata": {
        "colab": {
          "base_uri": "https://localhost:8080/"
        },
        "id": "Lred2ykSCl1H",
        "outputId": "13ef95da-8da9-4e12-b611-180dfe5515d1"
      },
      "execution_count": 34,
      "outputs": [
        {
          "name": "stdout",
          "output_type": "stream",
          "text": [
            "주사위 게임을 시작합니다.\n",
            "주사위를 던졌습니다.\n",
            "나 : 4 \n",
            "당신 3 \n",
            "나의 승리\n",
            "계속하려면 y를 입력하세요! : y\n",
            "주사위를 던졌습니다.\n",
            "나 : 4 \n",
            "당신 5 \n",
            "당신의 승리\n",
            "계속하려면 y를 입력하세요! : n\n"
          ]
        }
      ]
    },
    {
      "cell_type": "code",
      "source": [
        "#16\n",
        "a = int(input())\n",
        "print(int(str(a)[::-1]))\n",
        "\n",
        "# while num !=0:\n",
        "#   print(num%10,end ='')\n",
        "#   num=num//10"
      ],
      "metadata": {
        "colab": {
          "base_uri": "https://localhost:8080/"
        },
        "id": "65MH0s5bCl3m",
        "outputId": "b91e2015-c59d-47fb-c849-8adb3ca4c059"
      },
      "execution_count": 36,
      "outputs": [
        {
          "output_type": "stream",
          "name": "stdout",
          "text": [
            "1290538\n",
            "8350921\n"
          ]
        }
      ]
    },
    {
      "cell_type": "code",
      "source": [
        "#17\n",
        "a= 2\n",
        "for b in range(1,10,1):\n",
        "  c = a * b\n",
        "  print(f\"2 X\",b,'=',c)"
      ],
      "metadata": {
        "id": "llwH_yxzCl6G"
      },
      "execution_count": null,
      "outputs": []
    },
    {
      "cell_type": "code",
      "source": [
        "#18\n",
        "a= 2\n",
        "for b in range(9,0,-1):\n",
        "  c = a * b\n",
        "  print(f\"2 X\",b,'=',c)"
      ],
      "metadata": {
        "colab": {
          "base_uri": "https://localhost:8080/"
        },
        "id": "TTRXgrE1JU84",
        "outputId": "17681396-93c7-4e06-b214-e72c0c8a89bc"
      },
      "execution_count": 38,
      "outputs": [
        {
          "output_type": "stream",
          "name": "stdout",
          "text": [
            "2 X 9 = 18\n",
            "2 X 8 = 16\n",
            "2 X 7 = 14\n",
            "2 X 6 = 12\n",
            "2 X 5 = 10\n",
            "2 X 4 = 8\n",
            "2 X 3 = 6\n",
            "2 X 2 = 4\n",
            "2 X 1 = 2\n"
          ]
        }
      ]
    },
    {
      "cell_type": "code",
      "source": [
        "#19\n",
        "a = 0\n",
        "b = 0\n",
        "for i in range(1,51):\n",
        "    a = i *(100-i)\n",
        "    b = i\n",
        "print(\"최대가 되는 경우 : \",b,\"*\",b,\"=\",a)"
      ],
      "metadata": {
        "colab": {
          "base_uri": "https://localhost:8080/"
        },
        "id": "325W0QYHJU_X",
        "outputId": "f4da86b6-0a14-4d3b-ce54-6341a297242c"
      },
      "execution_count": 39,
      "outputs": [
        {
          "output_type": "stream",
          "name": "stdout",
          "text": [
            "최대가 되는 경우 :  50 * 50 = 2500\n"
          ]
        }
      ]
    },
    {
      "cell_type": "code",
      "source": [
        "#20\n",
        "a = int(input(\"정수를 입력하십시오: \"))\n",
        "for i in range(1,a+1,1):\n",
        "  if(a%i==0):\n",
        "    print(i,end = ' ')"
      ],
      "metadata": {
        "colab": {
          "base_uri": "https://localhost:8080/"
        },
        "id": "ysPkX2XBKpMY",
        "outputId": "e31d2be4-38a2-49c6-edc4-4ab923968dbb"
      },
      "execution_count": 43,
      "outputs": [
        {
          "output_type": "stream",
          "name": "stdout",
          "text": [
            "정수를 입력하십시오: 6\n",
            "1 2 3 6 "
          ]
        }
      ]
    },
    {
      "cell_type": "code",
      "source": [
        "#21\n",
        "a = int(input(\"입력할 숫자 개수: \"))\n",
        "max = 0\n",
        "cnt = 0\n",
        "m = 0\n",
        "for i in range(1,a+1):\n",
        "  c = int(input(\"숫자 입력: \")) \n",
        "  cnt = cnt + 1\n",
        "  if(max < c):\n",
        "    max = c\n",
        "    m = cnt \n",
        "print(\"가장 큰 수는 \",m,\"번재 수 입니다\")"
      ],
      "metadata": {
        "colab": {
          "base_uri": "https://localhost:8080/"
        },
        "id": "VGYIpajWL73Q",
        "outputId": "4dcadc44-9f8d-42b2-b840-522c30d186e1"
      },
      "execution_count": 48,
      "outputs": [
        {
          "output_type": "stream",
          "name": "stdout",
          "text": [
            "입력할 숫자 개수: 5\n",
            "숫자 입력: 20\n",
            "숫자 입력: 8\n",
            "숫자 입력: 123\n",
            "숫자 입력: 45\n",
            "숫자 입력: 11\n",
            "가장 큰 수는  3 번재 수 입니다\n"
          ]
        }
      ]
    },
    {
      "cell_type": "code",
      "source": [
        "#22\n",
        "cnt = 0\n",
        "for j in range(1,101,1):\n",
        "    if(j % 4 ==0):\n",
        "        print(j,end = ' ')\n",
        "        cnt =cnt + 1\n",
        "        if(cnt % 7 ==0):\n",
        "            print(\"\")"
      ],
      "metadata": {
        "colab": {
          "base_uri": "https://localhost:8080/"
        },
        "id": "hRghkcryL8Ov",
        "outputId": "d859326d-bc32-4670-a2a4-6fb7a39ddffc"
      },
      "execution_count": 58,
      "outputs": [
        {
          "output_type": "stream",
          "name": "stdout",
          "text": [
            "4 8 12 16 20 24 28 \n",
            "32 36 40 44 48 52 56 \n",
            "60 64 68 72 76 80 84 \n",
            "88 92 96 100 "
          ]
        }
      ]
    },
    {
      "cell_type": "code",
      "source": [
        "#23\n",
        "cnt = 0\n",
        "a = int(input(\"숫자 입력: \"))\n",
        "for i in range(1,a+1,1):\n",
        "  if(i%10==1):\n",
        "      cnt +=1\n",
        "print(\"일의 자리가 1인수는 \",cnt,\"개\")"
      ],
      "metadata": {
        "colab": {
          "base_uri": "https://localhost:8080/"
        },
        "id": "QhKWz1lrL8cf",
        "outputId": "d4e670e1-a46f-4fe7-d687-b532b8885d0e"
      },
      "execution_count": 60,
      "outputs": [
        {
          "output_type": "stream",
          "name": "stdout",
          "text": [
            "숫자 입력: 51\n",
            "일의 자리가 1인수는  6 개\n"
          ]
        }
      ]
    },
    {
      "cell_type": "code",
      "source": [
        "#24\n",
        "print(\"3+4 = ?\")\n",
        "while True:\n",
        "  a = int(input(\"정답을 입력하시오: \"))\n",
        "  if a == 7:\n",
        "    break\n",
        "print(\"참 잘했어요\")"
      ],
      "metadata": {
        "id": "vM2lDcUxL8jf"
      },
      "execution_count": null,
      "outputs": []
    }
  ]
}