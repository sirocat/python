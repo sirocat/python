{
  "nbformat": 4,
  "nbformat_minor": 0,
  "metadata": {
    "colab": {
      "provenance": []
    },
    "kernelspec": {
      "name": "python3",
      "display_name": "Python 3"
    },
    "language_info": {
      "name": "python"
    }
  },
  "cells": [
    {
      "cell_type": "markdown",
      "source": [
        "## 31Page"
      ],
      "metadata": {
        "id": "J5qQZk3vR5o0"
      }
    },
    {
      "cell_type": "code",
      "execution_count": 1,
      "metadata": {
        "colab": {
          "base_uri": "https://localhost:8080/"
        },
        "id": "KuHj_4XKRuZN",
        "outputId": "78ac3932-f4da-4348-c654-bb0eb33c1b72"
      },
      "outputs": [
        {
          "output_type": "stream",
          "name": "stdout",
          "text": [
            "p\n",
            "n\n"
          ]
        }
      ],
      "source": [
        "s = \"python\"\n",
        "print(s[0])\n",
        "print(s[-1])"
      ]
    },
    {
      "cell_type": "code",
      "source": [
        "s = 'python'\n",
        "print(s[10])"
      ],
      "metadata": {
        "id": "RJXxuEvQSHDe"
      },
      "execution_count": null,
      "outputs": []
    },
    {
      "cell_type": "code",
      "source": [
        "s1 = str(input('첫번째 문자열: '))\n",
        "s2 = str(input('두번째 문자열: '))\n",
        "s3 = str(input('세번째 문자열: '))\n",
        "if s1[-1] == s2[0] and s2[-1] == s3[0] and s3[-1] == s1[0]:\n",
        "  print('good')\n",
        "else:\n",
        "  print('bad')"
      ],
      "metadata": {
        "colab": {
          "base_uri": "https://localhost:8080/"
        },
        "id": "cJG2vObbSHGa",
        "outputId": "4ae0a9f9-82a8-48e5-d3e6-89c47c225208"
      },
      "execution_count": 3,
      "outputs": [
        {
          "output_type": "stream",
          "name": "stdout",
          "text": [
            "첫번째 문자열: turtle\n",
            "두번째 문자열: error\n",
            "세번째 문자열: robot\n",
            "good\n"
          ]
        }
      ]
    },
    {
      "cell_type": "code",
      "source": [
        "s = 'python'\n",
        "for i in range(len(s)):\n",
        "  print(s[i],end = ',')"
      ],
      "metadata": {
        "colab": {
          "base_uri": "https://localhost:8080/"
        },
        "id": "W3YHyPQlSHJO",
        "outputId": "7283e59f-4f3e-453d-e9e6-d87351c137f0"
      },
      "execution_count": 4,
      "outputs": [
        {
          "output_type": "stream",
          "name": "stdout",
          "text": [
            "p,y,t,h,o,n,"
          ]
        }
      ]
    },
    {
      "cell_type": "code",
      "source": [
        "number = input(\"하이폰(-)을 포함한 휴대번호를 입력하세요: \")\n",
        "number = number.replace(\"-\", \"\")\n",
        "print(number)"
      ],
      "metadata": {
        "colab": {
          "base_uri": "https://localhost:8080/"
        },
        "id": "EDrSabaeUKUP",
        "outputId": "4b5d18d8-7b58-41da-95b5-a9019459f2bd"
      },
      "execution_count": 6,
      "outputs": [
        {
          "output_type": "stream",
          "name": "stdout",
          "text": [
            "하이폰(-)을 포함한 휴대번호를 입력하세요: 010-1234-5678\n",
            "01012345678\n"
          ]
        }
      ]
    },
    {
      "cell_type": "code",
      "source": [
        "s = 'python'\n",
        "n = '여섯글자이다'\n",
        "print(len(s))\n",
        "print(len(n))"
      ],
      "metadata": {
        "colab": {
          "base_uri": "https://localhost:8080/"
        },
        "id": "1NqxM5O3UKW6",
        "outputId": "6b8efc62-5d3c-4eaf-d0b5-fc73002e2f23"
      },
      "execution_count": 8,
      "outputs": [
        {
          "output_type": "stream",
          "name": "stdout",
          "text": [
            "6\n",
            "6\n"
          ]
        }
      ]
    },
    {
      "cell_type": "code",
      "source": [
        "sentence = input(\"문자열 입력: \")\n",
        "\n",
        "for i in range(len(sentence)):\n",
        "  if sentence[i] == 't':\n",
        "    print(i+1,end =' ')"
      ],
      "metadata": {
        "colab": {
          "base_uri": "https://localhost:8080/"
        },
        "id": "yG86_V7hUKZ8",
        "outputId": "838b9d69-93d2-4992-8949-29777f378621"
      },
      "execution_count": 13,
      "outputs": [
        {
          "output_type": "stream",
          "name": "stdout",
          "text": [
            "문자열 입력: test\n",
            "14"
          ]
        }
      ]
    },
    {
      "cell_type": "code",
      "source": [
        "sentence = input('문장을 입력해 주세요: ')\n",
        "reversed_sentence = \"\"\n",
        "index = len(sentence) - 1\n",
        "while index >= 0:\n",
        "    \n",
        "    if sentence[index] == ' ':\n",
        "      reversed_sentence += '-'\n",
        "      index -=1\n",
        "    else:\n",
        "      reversed_sentence += sentence[index]\n",
        "      index -= 1\n",
        "\n",
        "print(reversed_sentence)"
      ],
      "metadata": {
        "colab": {
          "base_uri": "https://localhost:8080/"
        },
        "id": "B4EOA7VJUKc7",
        "outputId": "a54eb750-43ae-4c4e-880e-d303986e38f3"
      },
      "execution_count": 16,
      "outputs": [
        {
          "output_type": "stream",
          "name": "stdout",
          "text": [
            "문장을 입력해 주세요: Enjou your life!\n",
            "!efil-ruoy-uojnE\n"
          ]
        }
      ]
    },
    {
      "cell_type": "markdown",
      "source": [
        "## 32Page"
      ],
      "metadata": {
        "id": "29cLIbFmYGJa"
      }
    },
    {
      "cell_type": "code",
      "source": [
        "data = input('문자열 입력:')\n",
        "for i in range(len(data)-1):\n",
        "  print(data[i],data[i+1],sep ='')"
      ],
      "metadata": {
        "colab": {
          "base_uri": "https://localhost:8080/"
        },
        "id": "NqXSM855YEyI",
        "outputId": "ea474ef1-bd42-472f-9e7b-3dbc154b65ea"
      },
      "execution_count": 18,
      "outputs": [
        {
          "output_type": "stream",
          "name": "stdout",
          "text": [
            "문자열 입력:python\n",
            "py\n",
            "yt\n",
            "th\n",
            "ho\n",
            "on\n"
          ]
        }
      ]
    },
    {
      "cell_type": "code",
      "source": [
        "s = 'python'\n",
        "print(s[2:5])\n",
        "print(s[3:])\n",
        "print(s[:4])\n",
        "print(s[2:-2])\n",
        "print(s[-2:])"
      ],
      "metadata": {
        "colab": {
          "base_uri": "https://localhost:8080/"
        },
        "id": "loOVJqBnYE1B",
        "outputId": "54c5ce80-0e20-442e-b84a-640af135a77e"
      },
      "execution_count": 19,
      "outputs": [
        {
          "output_type": "stream",
          "name": "stdout",
          "text": [
            "tho\n",
            "hon\n",
            "pyth\n",
            "th\n",
            "on\n"
          ]
        }
      ]
    },
    {
      "cell_type": "code",
      "source": [
        "s = \"차종: 코란도C, 제조사: 쌍용, 배기량:1998\"\n",
        "print(s[15:17])"
      ],
      "metadata": {
        "colab": {
          "base_uri": "https://localhost:8080/"
        },
        "id": "p59ht9O8ZWU2",
        "outputId": "8ebfbc52-da90-4979-b5ad-59c1e2a7c991"
      },
      "execution_count": 21,
      "outputs": [
        {
          "output_type": "stream",
          "name": "stdout",
          "text": [
            "쌍용\n"
          ]
        }
      ]
    },
    {
      "cell_type": "code",
      "source": [
        "file = \"20210505-104830.jpg\"\n",
        "print(\"촬영 날짜: \"+file[4:6]+'월'+file[6:8]+'일')\n",
        "print(\"촬영 시간: \"+file[9:11]+'시'+file[11:13]+'분')\n",
        "print(\"확장자: \"+file[16:19])"
      ],
      "metadata": {
        "colab": {
          "base_uri": "https://localhost:8080/"
        },
        "id": "YoBPuLvVZWhV",
        "outputId": "610c1221-8dfb-4670-af41-88fe87019073"
      },
      "execution_count": 30,
      "outputs": [
        {
          "output_type": "stream",
          "name": "stdout",
          "text": [
            "촬영 날짜: 05월05일\n",
            "촬영 시간: 10시48분\n",
            "확장자: jpg\n"
          ]
        }
      ]
    },
    {
      "cell_type": "code",
      "source": [
        "yoil = \"월화수목금토일\"\n",
        "print(yoil[0]+yoil[2]+yoil[4]+yoil[6])\n",
        "print(yoil[::-1])"
      ],
      "metadata": {
        "colab": {
          "base_uri": "https://localhost:8080/"
        },
        "id": "vULBDSb4ZW4m",
        "outputId": "8aea4a9a-14f8-4a13-e43d-4b8b8cf5490e"
      },
      "execution_count": 38,
      "outputs": [
        {
          "output_type": "stream",
          "name": "stdout",
          "text": [
            "월수금일\n",
            "일토금목수화월\n"
          ]
        }
      ]
    },
    {
      "cell_type": "code",
      "source": [
        "jumin = '901231-1914983'\n",
        "year = jumin[0:2]\n",
        "if jumin[7] == '1':\n",
        "  gender = '남자'\n",
        "else:\n",
        "  gender = '여자'\n",
        "print(year+'년생 '+gender+\"입니다\")"
      ],
      "metadata": {
        "colab": {
          "base_uri": "https://localhost:8080/"
        },
        "id": "0JfMdienfI6r",
        "outputId": "5598ee12-340f-4058-aa11-cb8064d26dc8"
      },
      "execution_count": 44,
      "outputs": [
        {
          "output_type": "stream",
          "name": "stdout",
          "text": [
            "90년생 여자입니다\n"
          ]
        }
      ]
    },
    {
      "cell_type": "code",
      "source": [
        "a = \"10 20 30 40 50\"\n",
        "b = \"나는 서울로봇고 2학년이야.\"\n",
        "print(a.split())\n",
        "print(b.split())"
      ],
      "metadata": {
        "colab": {
          "base_uri": "https://localhost:8080/"
        },
        "id": "J7QXGcP9fzyb",
        "outputId": "c1eca426-8022-45ac-b20f-d73b328fa059"
      },
      "execution_count": 46,
      "outputs": [
        {
          "output_type": "stream",
          "name": "stdout",
          "text": [
            "['10', '20', '30', '40', '50']\n",
            "['나는', '서울로봇고', '2학년이야.']\n"
          ]
        }
      ]
    },
    {
      "cell_type": "markdown",
      "source": [
        "## 33Page"
      ],
      "metadata": {
        "id": "BhwtDCvdgF3j"
      }
    },
    {
      "cell_type": "code",
      "source": [
        "a = \"a:b:c:d\"\n",
        "a.split(':')"
      ],
      "metadata": {
        "colab": {
          "base_uri": "https://localhost:8080/"
        },
        "id": "zhV8IMTLgIQr",
        "outputId": "c42b9e16-145c-4092-e341-6d5f8587cc9e"
      },
      "execution_count": 51,
      "outputs": [
        {
          "output_type": "execute_result",
          "data": {
            "text/plain": [
              "['a', 'b', 'c', 'd']"
            ]
          },
          "metadata": {},
          "execution_count": 51
        }
      ]
    },
    {
      "cell_type": "code",
      "source": [
        "BTS = \"정국, 진, 뷔, 슈가, 지민, RM, 제이홉\"\n",
        "BTS_members = BTS.split(',')\n",
        "print(\"방탄멤버:\",BTS_members)\n",
        "for member in BTS_members:\n",
        "    print(member.strip(), \"사랑해\")\n",
        "\n",
        " "
      ],
      "metadata": {
        "colab": {
          "base_uri": "https://localhost:8080/"
        },
        "id": "iZRHJSVkgITZ",
        "outputId": "427af7eb-4550-4ad5-eccc-21f6ae2cea29"
      },
      "execution_count": 75,
      "outputs": [
        {
          "output_type": "stream",
          "name": "stdout",
          "text": [
            "방탄멤버: ['정국', ' 진', ' 뷔', ' 슈가', ' 지민', ' RM', ' 제이홉']\n",
            "정국 사랑해\n",
            " 진 사랑해\n",
            " 뷔 사랑해\n",
            " 슈가 사랑해\n",
            " 지민 사랑해\n",
            " RM 사랑해\n",
            " 제이홉 사랑해\n"
          ]
        }
      ]
    },
    {
      "cell_type": "code",
      "source": [
        "file_names = [\"file1.py\", \"file2.txt\", \"file.pptx\",\"file4.doc\"]\n",
        "for file_name in file_names:\n",
        "  arr = file_name.split(\".\")\n",
        "  print(f'{file_name :11}=> 파일명:{arr[0]},확장자:{arr[1]}')"
      ],
      "metadata": {
        "colab": {
          "base_uri": "https://localhost:8080/"
        },
        "id": "yzhEjpl4gIWP",
        "outputId": "ac42cb68-4571-480f-926e-ea9867e4c863"
      },
      "execution_count": 74,
      "outputs": [
        {
          "output_type": "stream",
          "name": "stdout",
          "text": [
            "file1.py   => 파일명:file1,확장자:py\n",
            "file2.txt  => 파일명:file2,확장자:txt\n",
            "file.pptx  => 파일명:file,확장자:pptx\n",
            "file4.doc  => 파일명:file4,확장자:doc\n"
          ]
        }
      ]
    },
    {
      "cell_type": "code",
      "source": [
        "sentence = input(\"문자열 입력: \")\n",
        "words = sentence.split()\n",
        "\n",
        "abbreviation = \"\"\n",
        "for word in words:\n",
        "    abbreviation += word[0].upper()\n",
        "\n",
        "print(\"줄임말:\", abbreviation)\n"
      ],
      "metadata": {
        "colab": {
          "base_uri": "https://localhost:8080/"
        },
        "id": "xcA8X90ZjrX_",
        "outputId": "41f62b40-4fa3-4388-c868-ff448ede9961"
      },
      "execution_count": 68,
      "outputs": [
        {
          "output_type": "stream",
          "name": "stdout",
          "text": [
            "문자열 입력: 복잡한 세상 편하게 살자\n",
            "줄임말: 복세편살\n"
          ]
        }
      ]
    },
    {
      "cell_type": "code",
      "source": [
        "print(\",\".join('abcd'))\n",
        "print(\"::\".join([\"1\",\"2\",\"3\",\"4\",\"5\"]))"
      ],
      "metadata": {
        "colab": {
          "base_uri": "https://localhost:8080/"
        },
        "id": "LnSbX_hSkWX-",
        "outputId": "5ee0035b-29de-4c01-c56b-f9a3b1233584"
      },
      "execution_count": 65,
      "outputs": [
        {
          "output_type": "stream",
          "name": "stdout",
          "text": [
            "a,b,c,d\n",
            "1::2::3::4::5\n"
          ]
        }
      ]
    },
    {
      "cell_type": "code",
      "source": [
        "s = 'python programming'\n",
        "print(\"문자열 s의 길이 =\",len(s))\n",
        "print()\n",
        "print(\"문자열 s에서 o의 인덱스=\",s.find('o'))\n",
        "print(\"문자열 없는 인덱스를 검색=\",s.find('A'))\n",
        "print(\"o를 뒤에서부터 검색한 인덱스=\",s.rfind('o'))\n",
        "print()\n",
        "print(\"문자열 s에서 r의 인덱스=\",s.find('r'))\n",
        "print(\"문자열 s에서 n의 개수=\",s.count('n'))\n",
        "print()\n",
        "print(\"문자열 s에서 gram의 인덱스=\",s.find('gram'))\n",
        "print(\"문자열 s에서 gram의 개수=\",s.index('gram'))\n",
        "print(\"문자열 s에서 gram의 개수=\",s.count('gram'))"
      ],
      "metadata": {
        "colab": {
          "base_uri": "https://localhost:8080/"
        },
        "id": "cKGKbgrnkjUS",
        "outputId": "38f2b31d-ca0f-4b6d-b419-ab5f683011a9"
      },
      "execution_count": 77,
      "outputs": [
        {
          "output_type": "stream",
          "name": "stdout",
          "text": [
            "문자열 s의 길이 = 18\n",
            "\n",
            "문자열 s에서 o의 인덱스= 4\n",
            "문자열 없는 인덱스를 검색= -1\n",
            "o를 뒤에서부터 검색한 인덱스= 9\n",
            "\n",
            "문자열 s에서 r의 인덱스= 8\n",
            "문자열 s에서 n의 개수= 2\n",
            "\n",
            "문자열 s에서 gram의 인덱스= 10\n",
            "문자열 s에서 gram의 개수= 10\n",
            "문자열 s에서 gram의 개수= 1\n"
          ]
        }
      ]
    },
    {
      "cell_type": "markdown",
      "source": [
        "## 34Page"
      ],
      "metadata": {
        "id": "DPmjPpR7uRqx"
      }
    },
    {
      "cell_type": "code",
      "source": [
        "name = \"박보검\"\n",
        "if name.startswith(\"박\"):\n",
        "  print(\"박씨입니다.\")\n",
        "elif name.strswith(\"김\"):\n",
        "  print(\"김씨입니다\")\n",
        "\n",
        "file = \"HelloPython.jpg\"\n",
        "if file.endswith('g'):\n",
        "  print(\"그림 파일입니다\")"
      ],
      "metadata": {
        "colab": {
          "base_uri": "https://localhost:8080/"
        },
        "id": "NRB2fNELuUWJ",
        "outputId": "a642f66d-109d-4fdd-b4ff-4e6289c706bc"
      },
      "execution_count": 81,
      "outputs": [
        {
          "output_type": "stream",
          "name": "stdout",
          "text": [
            "박씨입니다.\n",
            "그림 파일입니다\n"
          ]
        }
      ]
    },
    {
      "cell_type": "code",
      "source": [
        "domain = \"http://www.soen.kr\"\n",
        "if domain.endswith('kr'):\n",
        "  print(\"한국도메인입니다\")"
      ],
      "metadata": {
        "colab": {
          "base_uri": "https://localhost:8080/"
        },
        "id": "rM_-qFb9uUcH",
        "outputId": "832690a1-1a72-4035-a7ec-4230d7a7ce43"
      },
      "execution_count": 82,
      "outputs": [
        {
          "output_type": "stream",
          "name": "stdout",
          "text": [
            "한국도메인입니다\n"
          ]
        }
      ]
    },
    {
      "cell_type": "code",
      "source": [
        "s = \"python programming\"\n",
        "print('a' in s)\n",
        "print('z' in s)\n",
        "print('pro' in s)\n",
        "print('x' not in s)"
      ],
      "metadata": {
        "colab": {
          "base_uri": "https://localhost:8080/"
        },
        "id": "-ywPs7tiuUlK",
        "outputId": "e14fd33e-99f9-4024-bc7b-0e0b75a9a7dd"
      },
      "execution_count": 83,
      "outputs": [
        {
          "output_type": "stream",
          "name": "stdout",
          "text": [
            "True\n",
            "False\n",
            "True\n",
            "True\n"
          ]
        }
      ]
    },
    {
      "cell_type": "code",
      "source": [
        "s = input(\"영어 문장을 입력하세요\")\n",
        "i = 0\n",
        "count = 0\n",
        "while i <= len(s)-1:\n",
        "  if s[i] in 'aeiouAEIOU':\n",
        "    count+=1\n",
        "    print(s[i],end=' ')\n",
        "  i+=1\n",
        "\n",
        "print('\\n모음의 개수 : %d'%count)"
      ],
      "metadata": {
        "colab": {
          "base_uri": "https://localhost:8080/"
        },
        "id": "j9El37nHvTyH",
        "outputId": "bec29337-726f-428d-ef53-0b60fd379755"
      },
      "execution_count": 84,
      "outputs": [
        {
          "output_type": "stream",
          "name": "stdout",
          "text": [
            "영어 문장을 입력하세요MY favorite\n",
            "a o i e \n",
            "모음의 개수 : 4\n"
          ]
        }
      ]
    },
    {
      "cell_type": "code",
      "source": [
        "height = input(\"키를 입력하세요: \")\n",
        "if height.isdecimal():\n",
        "  print(\"키 = \",height)\n",
        "else:\n",
        "  print(\"숫자만 입력하세요\")"
      ],
      "metadata": {
        "colab": {
          "base_uri": "https://localhost:8080/"
        },
        "id": "4gm4z1oOv5oR",
        "outputId": "71bf7a2a-9bfc-4fb7-9097-70633ee4d8b6"
      },
      "execution_count": 86,
      "outputs": [
        {
          "output_type": "stream",
          "name": "stdout",
          "text": [
            "키를 입력하세요: 150\n",
            "키 =  150\n"
          ]
        }
      ]
    },
    {
      "cell_type": "markdown",
      "source": [
        "## 35Page"
      ],
      "metadata": {
        "id": "1Kz51_fWwwVY"
      }
    },
    {
      "cell_type": "code",
      "source": [
        "data = input(\"문자열 입력: \")\n",
        "for i in range(len(data)+1):\n",
        "  if data.islower():\n",
        "    print(\"x\",end='')\n",
        "  else:\n",
        "    print(\"o\",end='')"
      ],
      "metadata": {
        "colab": {
          "base_uri": "https://localhost:8080/"
        },
        "id": "YHPo4k19wyar",
        "outputId": "7393426b-e701-4fe7-d527-13f3324d9d41"
      },
      "execution_count": 91,
      "outputs": [
        {
          "output_type": "stream",
          "name": "stdout",
          "text": [
            "문자열 입력: MyNameIsPython\n",
            "ooooooooooooooo"
          ]
        }
      ]
    },
    {
      "cell_type": "code",
      "source": [],
      "metadata": {
        "id": "u591QuPvwydD"
      },
      "execution_count": null,
      "outputs": []
    },
    {
      "cell_type": "code",
      "source": [],
      "metadata": {
        "id": "DmDBXvINwyft"
      },
      "execution_count": null,
      "outputs": []
    },
    {
      "cell_type": "code",
      "source": [],
      "metadata": {
        "id": "zx1Ncu3ZwyiO"
      },
      "execution_count": null,
      "outputs": []
    },
    {
      "cell_type": "code",
      "source": [],
      "metadata": {
        "id": "6BfzJAB3wykY"
      },
      "execution_count": null,
      "outputs": []
    }
  ]
}