{
  "nbformat": 4,
  "nbformat_minor": 0,
  "metadata": {
    "colab": {
      "provenance": []
    },
    "kernelspec": {
      "name": "python3",
      "display_name": "Python 3"
    },
    "language_info": {
      "name": "python"
    }
  },
  "cells": [
    {
      "cell_type": "code",
      "execution_count": null,
      "metadata": {
        "colab": {
          "base_uri": "https://localhost:8080/"
        },
        "id": "FEOkWbpvx88f",
        "outputId": "9746726c-0f58-42fe-a620-ec44188a36fb"
      },
      "outputs": [
        {
          "output_type": "stream",
          "name": "stdout",
          "text": [
            "Hello World!\n"
          ]
        }
      ],
      "source": [
        "def Hi():\n",
        "  print(\"Hello World!\")\n",
        "Hi()"
      ]
    },
    {
      "cell_type": "code",
      "source": [
        "def triangle():\n",
        "  for i in range(5):\n",
        "    for j in range(i+1):\n",
        "      print('*',end ='')\n",
        "    print()\n",
        "triangle()"
      ],
      "metadata": {
        "colab": {
          "base_uri": "https://localhost:8080/"
        },
        "id": "NfWiB4510pi_",
        "outputId": "3247c3ad-c812-44db-dbfc-55e00ab2e544"
      },
      "execution_count": null,
      "outputs": [
        {
          "output_type": "stream",
          "name": "stdout",
          "text": [
            "*\n",
            "**\n",
            "***\n",
            "****\n",
            "*****\n"
          ]
        }
      ]
    },
    {
      "cell_type": "code",
      "source": [
        "def name(name):\n",
        "  print(f\"내 이름은 {name}야. 만나서 반가워\")\n",
        "\n",
        "name(\"채송화\")\n",
        "name(\"아이유\")"
      ],
      "metadata": {
        "colab": {
          "base_uri": "https://localhost:8080/"
        },
        "id": "-RJIFybF1FZp",
        "outputId": "ee80a1ce-0a59-4914-d002-cccb24908e2b"
      },
      "execution_count": null,
      "outputs": [
        {
          "output_type": "stream",
          "name": "stdout",
          "text": [
            "내 이름은 채송화야. 만나서 반가워\n",
            "내 이름은 아이유야. 만나서 반가워\n"
          ]
        }
      ]
    },
    {
      "cell_type": "code",
      "source": [
        "def even(a):\n",
        "  if a%2==0:\n",
        "    print(\"짝수\")\n",
        "  else:\n",
        "    print(\"홀수\")\n",
        "\n",
        "even(11)"
      ],
      "metadata": {
        "colab": {
          "base_uri": "https://localhost:8080/"
        },
        "id": "fmz1tR1J1WEl",
        "outputId": "3090686d-66c0-4f0b-8410-b25423269906"
      },
      "execution_count": null,
      "outputs": [
        {
          "output_type": "stream",
          "name": "stdout",
          "text": [
            "홀수\n"
          ]
        }
      ]
    },
    {
      "cell_type": "code",
      "source": [
        "def triangle(n):\n",
        "  for i in range(n):\n",
        "    for j in range(i+1):\n",
        "      print('*',end='')\n",
        "    print()\n",
        "triangle(3)"
      ],
      "metadata": {
        "colab": {
          "base_uri": "https://localhost:8080/"
        },
        "id": "TcRywTDN1nlz",
        "outputId": "3bb01fa7-38b5-4bd0-fa41-f1c1d2b95a75"
      },
      "execution_count": null,
      "outputs": [
        {
          "output_type": "stream",
          "name": "stdout",
          "text": [
            "*\n",
            "**\n",
            "***\n"
          ]
        }
      ]
    },
    {
      "cell_type": "code",
      "source": [
        "def print_n_times(value,n):\n",
        "  for i in range(n):\n",
        "    print(value)\n",
        "print_n_times('안녕하세요',2)\n",
        "print_n_times('반가워요',3)"
      ],
      "metadata": {
        "colab": {
          "base_uri": "https://localhost:8080/"
        },
        "id": "vyC1Jlvh2B3E",
        "outputId": "d311cad1-2fea-4099-b0df-4d486bb131a6"
      },
      "execution_count": null,
      "outputs": [
        {
          "output_type": "stream",
          "name": "stdout",
          "text": [
            "안녕하세요\n",
            "안녕하세요\n",
            "반가워요\n",
            "반가워요\n",
            "반가워요\n"
          ]
        }
      ]
    },
    {
      "cell_type": "code",
      "source": [
        "def avg(a,b,c):\n",
        "  sum=a+b+c\n",
        "  print(sum/3)\n",
        "avg(3,5,10)"
      ],
      "metadata": {
        "colab": {
          "base_uri": "https://localhost:8080/"
        },
        "id": "kKVjt15A2OY4",
        "outputId": "1fb4508c-324e-49b7-f589-12d5dbbe1228"
      },
      "execution_count": null,
      "outputs": [
        {
          "output_type": "stream",
          "name": "stdout",
          "text": [
            "6.0\n"
          ]
        }
      ]
    },
    {
      "cell_type": "code",
      "source": [
        "import random\n",
        "def dice_n_times(n):\n",
        "  for i in range(n):\n",
        "    k = random.randint(1,6)\n",
        "    print(i+1,\"번째 주사위 굴린 결과:\",k)\n",
        "\n",
        "dice_n_times(6)"
      ],
      "metadata": {
        "colab": {
          "base_uri": "https://localhost:8080/"
        },
        "id": "x16YcMRH2lHp",
        "outputId": "816160d6-a0da-4857-ba2f-129f2d2334ae"
      },
      "execution_count": null,
      "outputs": [
        {
          "output_type": "stream",
          "name": "stdout",
          "text": [
            "1 번째 주사위 굴린 결과: 4\n",
            "2 번째 주사위 굴린 결과: 4\n",
            "3 번째 주사위 굴린 결과: 6\n",
            "4 번째 주사위 굴린 결과: 4\n",
            "5 번째 주사위 굴린 결과: 2\n",
            "6 번째 주사위 굴린 결과: 6\n"
          ]
        }
      ]
    },
    {
      "cell_type": "code",
      "source": [
        "def intsum(*ints):\n",
        "  sum = 0\n",
        "  for i in ints:\n",
        "    sum+=i\n",
        "  print(sum)\n",
        "print(intsum(1,2,3))\n",
        "print(intsum(5,7,9,11,13))\n",
        "print(intsum(8,9,6,2,9,7,5,8))"
      ],
      "metadata": {
        "colab": {
          "base_uri": "https://localhost:8080/"
        },
        "id": "z6TTlw1n22jw",
        "outputId": "962e4c0a-5901-4f74-b0d2-9cf9d6dd73f3"
      },
      "execution_count": null,
      "outputs": [
        {
          "output_type": "stream",
          "name": "stdout",
          "text": [
            "6\n",
            "None\n",
            "45\n",
            "None\n",
            "54\n",
            "None\n"
          ]
        }
      ]
    },
    {
      "cell_type": "code",
      "source": [
        "def print_n_times(n, *values):\n",
        "  for i in range(n):\n",
        "    for value in values:\n",
        "      print(value,end='')\n",
        "    print()\n",
        "print_n_times(3,\"안녕하세요\",\"즐거운\",\"파이썬\")"
      ],
      "metadata": {
        "colab": {
          "base_uri": "https://localhost:8080/"
        },
        "id": "znpqwvw43O5G",
        "outputId": "f17d950e-cb32-4326-80af-729d3daa1bf7"
      },
      "execution_count": null,
      "outputs": [
        {
          "output_type": "stream",
          "name": "stdout",
          "text": [
            "안녕하세요즐거운파이썬\n",
            "안녕하세요즐거운파이썬\n",
            "안녕하세요즐거운파이썬\n"
          ]
        }
      ]
    },
    {
      "cell_type": "code",
      "source": [
        "def add_mul(choice,*args):\n",
        "  if choice == 'add':\n",
        "    result = 0\n",
        "    for i in args:\n",
        "      result = result + i\n",
        "  elif choice == 'mul':\n",
        "    result = 1\n",
        "    for i in args:\n",
        "      result = result * i\n",
        "  print(result)\n",
        "\n",
        "add_mul('add',1,2,3,4,5)\n",
        "add_mul('mul',1,2,3,4,5)"
      ],
      "metadata": {
        "colab": {
          "base_uri": "https://localhost:8080/"
        },
        "id": "xYoYjeJ84jHF",
        "outputId": "619291ba-935b-4c6e-f4fc-4c7ae879273f"
      },
      "execution_count": null,
      "outputs": [
        {
          "output_type": "stream",
          "name": "stdout",
          "text": [
            "15\n",
            "120\n"
          ]
        }
      ]
    },
    {
      "cell_type": "code",
      "source": [
        "def star(a,*args):\n",
        "  for i in args:\n",
        "    for h in range(int(i)):\n",
        "      print(a,end='')\n",
        "    print()\n",
        "star('*',3,5,2)"
      ],
      "metadata": {
        "colab": {
          "base_uri": "https://localhost:8080/"
        },
        "id": "Yqxtclqq5FxN",
        "outputId": "94b16509-fe99-4031-c537-709f7dc1dd02"
      },
      "execution_count": null,
      "outputs": [
        {
          "output_type": "stream",
          "name": "stdout",
          "text": [
            "***\n",
            "*****\n",
            "**\n"
          ]
        }
      ]
    },
    {
      "cell_type": "code",
      "source": [
        "def print_n_times(value,n=2):\n",
        "  for i in range(n):\n",
        "    print(value)\n",
        "print_n_times(\"안녕하세요\")\n",
        "print_n_times(\"안녕히 가세요\",3)"
      ],
      "metadata": {
        "colab": {
          "base_uri": "https://localhost:8080/"
        },
        "id": "kgSNvsJK5uy8",
        "outputId": "7fac97b5-89e3-430f-acd8-9d889972b2a2"
      },
      "execution_count": null,
      "outputs": [
        {
          "output_type": "stream",
          "name": "stdout",
          "text": [
            "안녕하세요\n",
            "안녕하세요\n",
            "안녕히 가세요\n",
            "안녕히 가세요\n",
            "안녕히 가세요\n"
          ]
        }
      ]
    },
    {
      "cell_type": "code",
      "source": [
        "def calcstep(begin,end,step=1):\n",
        "  sum = 0\n",
        "  for num in range(begin,end+1,step):\n",
        "    sum+=num\n",
        "  print(f\"{begin}부터 {end}까지 숫자 중 {step}간격씩 더한 값은 {sum}\")\n",
        "\n",
        "calcstep(1,100,1)\n",
        "calcstep(1,100)"
      ],
      "metadata": {
        "colab": {
          "base_uri": "https://localhost:8080/"
        },
        "id": "xBFD-YlH6A1-",
        "outputId": "1c785752-d4bb-4057-c993-7c750ea7a62e"
      },
      "execution_count": null,
      "outputs": [
        {
          "output_type": "stream",
          "name": "stdout",
          "text": [
            "1부터 100까지 숫자 중 1간격씩 더한 값은 5050\n",
            "1부터 100까지 숫자 중 1간격씩 더한 값은 5050\n"
          ]
        }
      ]
    },
    {
      "cell_type": "code",
      "source": [
        "def fn(a,b,c,d,e):\n",
        "  print(a,b,c,d,e)\n",
        "fn(1,2,3,4,5)\n",
        "fn(a=1,b=2,c=3,d=4,e=5)\n",
        "fn(e=5,c=3,b=2,a=1,d=4)\n",
        "fn(1,2,d=4,c=3,e=5)"
      ],
      "metadata": {
        "colab": {
          "base_uri": "https://localhost:8080/"
        },
        "id": "AOhjXcy19Lwv",
        "outputId": "c9536a24-b476-416e-f177-f316e162bc4d"
      },
      "execution_count": null,
      "outputs": [
        {
          "output_type": "stream",
          "name": "stdout",
          "text": [
            "1 2 3 4 5\n",
            "1 2 3 4 5\n",
            "1 2 3 4 5\n",
            "1 2 3 4 5\n"
          ]
        }
      ]
    },
    {
      "cell_type": "code",
      "source": [
        "# fn(d=4,e=5,1,2,3)"
      ],
      "metadata": {
        "id": "wah-kiwN9h4_"
      },
      "execution_count": null,
      "outputs": []
    },
    {
      "cell_type": "code",
      "source": [
        "def return_test():\n",
        "  print(\"A위치입니다\")\n",
        "  return\n",
        "  print(\"B위치입니다\")\n",
        "return_test()"
      ],
      "metadata": {
        "colab": {
          "base_uri": "https://localhost:8080/"
        },
        "id": "tkjUSVjG9pet",
        "outputId": "9e034462-319b-4091-a3fd-9d6fa016a53d"
      },
      "execution_count": null,
      "outputs": [
        {
          "output_type": "stream",
          "name": "stdout",
          "text": [
            "A위치입니다\n"
          ]
        }
      ]
    },
    {
      "cell_type": "code",
      "source": [
        "def return_test():\n",
        "  return 100\n",
        "value = return_test()\n",
        "print(value)"
      ],
      "metadata": {
        "colab": {
          "base_uri": "https://localhost:8080/"
        },
        "id": "MldKr570955_",
        "outputId": "b6e0dc3b-4bc1-4bd4-d286-5fc495e38c73"
      },
      "execution_count": null,
      "outputs": [
        {
          "output_type": "stream",
          "name": "stdout",
          "text": [
            "100\n"
          ]
        }
      ]
    },
    {
      "cell_type": "code",
      "source": [
        "def add(a,b):\n",
        "  return a+b\n",
        "value = add(123,300)\n",
        "print(value)"
      ],
      "metadata": {
        "colab": {
          "base_uri": "https://localhost:8080/"
        },
        "id": "PeDlYFJ7-EEI",
        "outputId": "2f8c5101-ec12-4124-827b-48d9da59ac7f"
      },
      "execution_count": null,
      "outputs": [
        {
          "output_type": "stream",
          "name": "stdout",
          "text": [
            "423\n"
          ]
        }
      ]
    },
    {
      "cell_type": "code",
      "source": [
        "def big(a,b):\n",
        "  if a > b:\n",
        "    return a\n",
        "  else:\n",
        "    return b\n",
        "value = big(5,11)\n",
        "print(value)"
      ],
      "metadata": {
        "colab": {
          "base_uri": "https://localhost:8080/"
        },
        "id": "pdHxEkWI-S-U",
        "outputId": "8ade0e3f-dff1-44ee-a2fd-017da4303d78"
      },
      "execution_count": null,
      "outputs": [
        {
          "output_type": "stream",
          "name": "stdout",
          "text": [
            "11\n"
          ]
        }
      ]
    },
    {
      "cell_type": "code",
      "source": [
        "def sum_to_n(n):\n",
        "    sum = 0\n",
        "    for i in range(1, n + 1):\n",
        "        sum += i\n",
        "    print(sum)\n",
        "\n",
        "sum_to_n(10)\n"
      ],
      "metadata": {
        "colab": {
          "base_uri": "https://localhost:8080/"
        },
        "id": "B6ybbgjZ-nlS",
        "outputId": "61df299c-9bb7-42be-d904-ef2c2ed05266"
      },
      "execution_count": null,
      "outputs": [
        {
          "output_type": "stream",
          "name": "stdout",
          "text": [
            "55\n"
          ]
        }
      ]
    },
    {
      "cell_type": "code",
      "source": [
        "def min(*numbers):\n",
        "    min_value = numbers[0]\n",
        "    for num in numbers:\n",
        "        if num < min_value:\n",
        "            min_value = num\n",
        "    return min_value\n",
        "\n",
        "result = min(5, 2, 7, 4)\n",
        "print(\"최소값:\", result)\n"
      ],
      "metadata": {
        "colab": {
          "base_uri": "https://localhost:8080/"
        },
        "id": "mhM7burP_CGr",
        "outputId": "0b5ab553-dcf3-4fa1-d284-78c96334e412"
      },
      "execution_count": null,
      "outputs": [
        {
          "output_type": "stream",
          "name": "stdout",
          "text": [
            "최소값: 2\n"
          ]
        }
      ]
    },
    {
      "cell_type": "code",
      "source": [
        "def multi_num(num, start, end):\n",
        "    result = []\n",
        "    for n in range(start, end + 1):\n",
        "        if n % num == 0:\n",
        "            result.append(n)\n",
        "    return result\n",
        "\n",
        "mult = multi_num(17, 1, 200)\n",
        "print(mult)\n"
      ],
      "metadata": {
        "colab": {
          "base_uri": "https://localhost:8080/"
        },
        "id": "CJMcuuja_eaD",
        "outputId": "1774f91d-ecfc-42b7-e983-7edde66bafec"
      },
      "execution_count": null,
      "outputs": [
        {
          "output_type": "stream",
          "name": "stdout",
          "text": [
            "[17, 34, 51, 68, 85, 102, 119, 136, 153, 170, 187]\n"
          ]
        }
      ]
    },
    {
      "cell_type": "code",
      "source": [
        "def min_max(*args):\n",
        "  min = args[0]\n",
        "  max = args[0]\n",
        "  for arg in args:\n",
        "    if min>arg:\n",
        "      min = arg\n",
        "    if max<arg:\n",
        "      max=arg\n",
        "  return min,max\n",
        "\n",
        "min,max = min_max(52,-3,23,89,-21)\n",
        "print(f\"최소:{min} 최대:{max}\")"
      ],
      "metadata": {
        "colab": {
          "base_uri": "https://localhost:8080/"
        },
        "id": "hvXnT8GPAHXz",
        "outputId": "4ec5f845-c07a-48d0-84f9-891b3924b47a"
      },
      "execution_count": null,
      "outputs": [
        {
          "output_type": "stream",
          "name": "stdout",
          "text": [
            "최소:-21 최대:89\n"
          ]
        }
      ]
    },
    {
      "cell_type": "code",
      "source": [
        "import random\n",
        "def position(number,title,column):\n",
        "  print(title)\n",
        "  students=list(range(1,number+1))\n",
        "  random.shuffle(students)\n",
        "  pos=\"\"\n",
        "  for i in range(0,number):\n",
        "    if students[i] < 10:\n",
        "      pos = pos +\"0\" + str(students[i]) +\"번\\t\"\n",
        "    else:\n",
        "      pos = pos + str(students[i])+\"번\\t\"\n",
        "    if(i+1) % column ==0:\n",
        "      pos = pos +'\\n'\n",
        "  print(pos)\n",
        "position(20,title=\"3-2반\",column=5)"
      ],
      "metadata": {
        "colab": {
          "base_uri": "https://localhost:8080/"
        },
        "id": "AnDxFwRTAuCr",
        "outputId": "8b0c0869-4ec5-49e7-b255-3226d9f8ac08"
      },
      "execution_count": null,
      "outputs": [
        {
          "output_type": "stream",
          "name": "stdout",
          "text": [
            "3-2반\n",
            "06번\t01번\t18번\t11번\t15번\t\n",
            "16번\t07번\t08번\t09번\t20번\t\n",
            "10번\t12번\t03번\t17번\t04번\t\n",
            "19번\t02번\t13번\t05번\t14번\t\n",
            "\n"
          ]
        }
      ]
    },
    {
      "cell_type": "code",
      "source": [],
      "metadata": {
        "id": "WVEPFyO1BnsU"
      },
      "execution_count": null,
      "outputs": []
    }
  ]
}